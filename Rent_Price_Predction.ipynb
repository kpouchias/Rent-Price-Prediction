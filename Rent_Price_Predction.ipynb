{
 "cells": [
  {
   "cell_type": "markdown",
   "id": "577012f5-8142-4952-8fc7-717ca803ef93",
   "metadata": {
    "tags": []
   },
   "source": [
    "# Apartment Rent Prediction"
   ]
  },
  {
   "cell_type": "markdown",
   "id": "14fe5aaf-0a8d-4ddf-81d8-fffe2ccd7ff2",
   "metadata": {
    "tags": []
   },
   "source": [
    "## Importing the data"
   ]
  },
  {
   "cell_type": "code",
   "execution_count": 1,
   "id": "c395b890-e77d-48e9-a08b-49d57a06090e",
   "metadata": {},
   "outputs": [
    {
     "data": {
      "text/html": [
       "<div>\n",
       "<style scoped>\n",
       "    .dataframe tbody tr th:only-of-type {\n",
       "        vertical-align: middle;\n",
       "    }\n",
       "\n",
       "    .dataframe tbody tr th {\n",
       "        vertical-align: top;\n",
       "    }\n",
       "\n",
       "    .dataframe thead th {\n",
       "        text-align: right;\n",
       "    }\n",
       "</style>\n",
       "<table border=\"1\" class=\"dataframe\">\n",
       "  <thead>\n",
       "    <tr style=\"text-align: right;\">\n",
       "      <th></th>\n",
       "      <th>Category</th>\n",
       "      <th>Floor</th>\n",
       "      <th>Bedrooms</th>\n",
       "      <th>Bathrooms</th>\n",
       "      <th>Area</th>\n",
       "      <th>Year</th>\n",
       "      <th>Price/m2(€/m^2)</th>\n",
       "      <th>Price(€)</th>\n",
       "    </tr>\n",
       "  </thead>\n",
       "  <tbody>\n",
       "    <tr>\n",
       "      <th>0</th>\n",
       "      <td>NaN</td>\n",
       "      <td>NaN</td>\n",
       "      <td>NaN</td>\n",
       "      <td>NaN</td>\n",
       "      <td>NaN</td>\n",
       "      <td>NaN</td>\n",
       "      <td>NaN</td>\n",
       "      <td>NaN</td>\n",
       "    </tr>\n",
       "    <tr>\n",
       "      <th>1</th>\n",
       "      <td>Διαμέρισμα 40 τ.μ.</td>\n",
       "      <td>Ισόγειο</td>\n",
       "      <td>×1</td>\n",
       "      <td>×1</td>\n",
       "      <td>Πολίχνη Θεσσαλονίκης | Ενοικίαση...</td>\n",
       "      <td>×2010</td>\n",
       "      <td>6 €/τ.μ.</td>\n",
       "      <td>250 €</td>\n",
       "    </tr>\n",
       "    <tr>\n",
       "      <th>2</th>\n",
       "      <td>Μονοκατοικία 75 τ.μ.</td>\n",
       "      <td>Ισόγειο</td>\n",
       "      <td>×3</td>\n",
       "      <td>×1</td>\n",
       "      <td>Δ. Βασιλικών | Ενοικίαση κατοικί...</td>\n",
       "      <td>×1990</td>\n",
       "      <td>6 €/τ.μ.</td>\n",
       "      <td>450 €</td>\n",
       "    </tr>\n",
       "    <tr>\n",
       "      <th>3</th>\n",
       "      <td>Διαμέρισμα 67 τ.μ.</td>\n",
       "      <td>Ημιώροφος</td>\n",
       "      <td>×1</td>\n",
       "      <td>×1</td>\n",
       "      <td>Πολίχνη Θεσσαλονίκης | Ενοικίαση...</td>\n",
       "      <td>×1990</td>\n",
       "      <td>6 €/τ.μ.</td>\n",
       "      <td>400 €</td>\n",
       "    </tr>\n",
       "    <tr>\n",
       "      <th>4</th>\n",
       "      <td>Διαμέρισμα 32 τ.μ.</td>\n",
       "      <td>1ος</td>\n",
       "      <td>×1</td>\n",
       "      <td>×1</td>\n",
       "      <td>Πολίχνη Θεσσαλονίκης | Ενοικίαση...</td>\n",
       "      <td>×1989</td>\n",
       "      <td>7 €/τ.μ.</td>\n",
       "      <td>230 €</td>\n",
       "    </tr>\n",
       "  </tbody>\n",
       "</table>\n",
       "</div>"
      ],
      "text/plain": [
       "               Category                                        Floor Bedrooms  \\\n",
       "0                   NaN                                          NaN      NaN   \n",
       "1    Διαμέρισμα 40 τ.μ.                      Ισόγειο                       ×1   \n",
       "2  Μονοκατοικία 75 τ.μ.                      Ισόγειο                       ×3   \n",
       "3    Διαμέρισμα 67 τ.μ.                    Ημιώροφος                       ×1   \n",
       "4    Διαμέρισμα 32 τ.μ.                          1ος                       ×1   \n",
       "\n",
       "  Bathrooms                                               Area   Year  \\\n",
       "0       NaN                                                NaN    NaN   \n",
       "1        ×1                Πολίχνη Θεσσαλονίκης | Ενοικίαση...  ×2010   \n",
       "2        ×1                Δ. Βασιλικών | Ενοικίαση κατοικί...  ×1990   \n",
       "3        ×1                Πολίχνη Θεσσαλονίκης | Ενοικίαση...  ×1990   \n",
       "4        ×1                Πολίχνη Θεσσαλονίκης | Ενοικίαση...  ×1989   \n",
       "\n",
       "                          Price/m2(€/m^2) Price(€)  \n",
       "0                                     NaN      NaN  \n",
       "1                  6 €/τ.μ.                  250 €  \n",
       "2                  6 €/τ.μ.                  450 €  \n",
       "3                  6 €/τ.μ.                  400 €  \n",
       "4                  7 €/τ.μ.                  230 €  "
      ]
     },
     "execution_count": 1,
     "metadata": {},
     "output_type": "execute_result"
    }
   ],
   "source": [
    "import pandas as pd\n",
    "import numpy as np\n",
    "\n",
    "est=pd.read_csv(r'C:/Users/user/Documents/ΔΙΚΑ ΜΟΥ/DS Projects/Webscraping/apartments.csv')\n",
    "est.head()"
   ]
  },
  {
   "cell_type": "markdown",
   "id": "ad93a4bf-d187-41ab-8c34-d26e90efcdf6",
   "metadata": {
    "tags": []
   },
   "source": [
    "## Data Wrangling"
   ]
  },
  {
   "cell_type": "code",
   "execution_count": 2,
   "id": "6beb75f0-f21a-43f0-856e-f404e82a4873",
   "metadata": {},
   "outputs": [
    {
     "name": "stdout",
     "output_type": "stream",
     "text": [
      "<class 'pandas.core.frame.DataFrame'>\n",
      "RangeIndex: 2050 entries, 0 to 2049\n",
      "Data columns (total 8 columns):\n",
      " #   Column           Non-Null Count  Dtype \n",
      "---  ------           --------------  ----- \n",
      " 0   Category         1805 non-null   object\n",
      " 1   Floor            1805 non-null   object\n",
      " 2   Bedrooms         1805 non-null   object\n",
      " 3   Bathrooms        1805 non-null   object\n",
      " 4   Area             1805 non-null   object\n",
      " 5   Year             1805 non-null   object\n",
      " 6   Price/m2(€/m^2)  1805 non-null   object\n",
      " 7   Price(€)         1805 non-null   object\n",
      "dtypes: object(8)\n",
      "memory usage: 128.2+ KB\n"
     ]
    }
   ],
   "source": [
    "est.info()"
   ]
  },
  {
   "cell_type": "code",
   "execution_count": 3,
   "id": "7f2787ba-3004-4775-986a-a1e52da17362",
   "metadata": {},
   "outputs": [
    {
     "data": {
      "text/plain": [
       "(2050, 8)"
      ]
     },
     "execution_count": 3,
     "metadata": {},
     "output_type": "execute_result"
    }
   ],
   "source": [
    "est.shape"
   ]
  },
  {
   "cell_type": "markdown",
   "id": "9a211745-1fa7-49e6-bc75-885c53d4d55c",
   "metadata": {
    "tags": []
   },
   "source": [
    " **Dealing with missing values and duplicates**"
   ]
  },
  {
   "cell_type": "code",
   "execution_count": 4,
   "id": "eec6fe82-3729-48d7-8d26-5a0612664872",
   "metadata": {},
   "outputs": [
    {
     "name": "stdout",
     "output_type": "stream",
     "text": [
      "<class 'pandas.core.frame.DataFrame'>\n",
      "Int64Index: 1805 entries, 1 to 2048\n",
      "Data columns (total 8 columns):\n",
      " #   Column           Non-Null Count  Dtype \n",
      "---  ------           --------------  ----- \n",
      " 0   Category         1805 non-null   object\n",
      " 1   Floor            1805 non-null   object\n",
      " 2   Bedrooms         1805 non-null   object\n",
      " 3   Bathrooms        1805 non-null   object\n",
      " 4   Area             1805 non-null   object\n",
      " 5   Year             1805 non-null   object\n",
      " 6   Price/m2(€/m^2)  1805 non-null   object\n",
      " 7   Price(€)         1805 non-null   object\n",
      "dtypes: object(8)\n",
      "memory usage: 126.9+ KB\n"
     ]
    }
   ],
   "source": [
    "est.dropna(inplace=True)\n",
    "est.info()"
   ]
  },
  {
   "cell_type": "code",
   "execution_count": 5,
   "id": "ba25f1a1-1997-432e-937f-947a7903087e",
   "metadata": {},
   "outputs": [
    {
     "name": "stdout",
     "output_type": "stream",
     "text": [
      "<class 'pandas.core.frame.DataFrame'>\n",
      "Int64Index: 1782 entries, 1 to 2048\n",
      "Data columns (total 8 columns):\n",
      " #   Column           Non-Null Count  Dtype \n",
      "---  ------           --------------  ----- \n",
      " 0   Category         1782 non-null   object\n",
      " 1   Floor            1782 non-null   object\n",
      " 2   Bedrooms         1782 non-null   object\n",
      " 3   Bathrooms        1782 non-null   object\n",
      " 4   Area             1782 non-null   object\n",
      " 5   Year             1782 non-null   object\n",
      " 6   Price/m2(€/m^2)  1782 non-null   object\n",
      " 7   Price(€)         1782 non-null   object\n",
      "dtypes: object(8)\n",
      "memory usage: 125.3+ KB\n"
     ]
    }
   ],
   "source": [
    "est.drop_duplicates(inplace=True)\n",
    "est.info()"
   ]
  },
  {
   "cell_type": "markdown",
   "id": "c373a6a5-dc31-493c-ab6c-9a25f364fed4",
   "metadata": {},
   "source": [
    "**Use str.split to split the Category column to Type and Surface**"
   ]
  },
  {
   "cell_type": "code",
   "execution_count": 6,
   "id": "a352ad10-07ce-4bb2-9c25-b79660e432b5",
   "metadata": {},
   "outputs": [
    {
     "data": {
      "text/html": [
       "<div>\n",
       "<style scoped>\n",
       "    .dataframe tbody tr th:only-of-type {\n",
       "        vertical-align: middle;\n",
       "    }\n",
       "\n",
       "    .dataframe tbody tr th {\n",
       "        vertical-align: top;\n",
       "    }\n",
       "\n",
       "    .dataframe thead th {\n",
       "        text-align: right;\n",
       "    }\n",
       "</style>\n",
       "<table border=\"1\" class=\"dataframe\">\n",
       "  <thead>\n",
       "    <tr style=\"text-align: right;\">\n",
       "      <th></th>\n",
       "      <th>Category</th>\n",
       "      <th>Floor</th>\n",
       "      <th>Bedrooms</th>\n",
       "      <th>Bathrooms</th>\n",
       "      <th>Area</th>\n",
       "      <th>Year</th>\n",
       "      <th>Price/m2(€/m^2)</th>\n",
       "      <th>Price(€)</th>\n",
       "      <th>Type</th>\n",
       "      <th>Surface m^2</th>\n",
       "    </tr>\n",
       "  </thead>\n",
       "  <tbody>\n",
       "    <tr>\n",
       "      <th>1</th>\n",
       "      <td>Διαμέρισμα 40 τ.μ.</td>\n",
       "      <td>Ισόγειο</td>\n",
       "      <td>×1</td>\n",
       "      <td>×1</td>\n",
       "      <td>Πολίχνη Θεσσαλονίκης | Ενοικίαση...</td>\n",
       "      <td>×2010</td>\n",
       "      <td>6 €/τ.μ.</td>\n",
       "      <td>250 €</td>\n",
       "      <td>Διαμέρισμα</td>\n",
       "      <td>40 τ.μ.</td>\n",
       "    </tr>\n",
       "    <tr>\n",
       "      <th>2</th>\n",
       "      <td>Μονοκατοικία 75 τ.μ.</td>\n",
       "      <td>Ισόγειο</td>\n",
       "      <td>×3</td>\n",
       "      <td>×1</td>\n",
       "      <td>Δ. Βασιλικών | Ενοικίαση κατοικί...</td>\n",
       "      <td>×1990</td>\n",
       "      <td>6 €/τ.μ.</td>\n",
       "      <td>450 €</td>\n",
       "      <td>Μονοκατοικία</td>\n",
       "      <td>75 τ.μ.</td>\n",
       "    </tr>\n",
       "    <tr>\n",
       "      <th>3</th>\n",
       "      <td>Διαμέρισμα 67 τ.μ.</td>\n",
       "      <td>Ημιώροφος</td>\n",
       "      <td>×1</td>\n",
       "      <td>×1</td>\n",
       "      <td>Πολίχνη Θεσσαλονίκης | Ενοικίαση...</td>\n",
       "      <td>×1990</td>\n",
       "      <td>6 €/τ.μ.</td>\n",
       "      <td>400 €</td>\n",
       "      <td>Διαμέρισμα</td>\n",
       "      <td>67 τ.μ.</td>\n",
       "    </tr>\n",
       "    <tr>\n",
       "      <th>4</th>\n",
       "      <td>Διαμέρισμα 32 τ.μ.</td>\n",
       "      <td>1ος</td>\n",
       "      <td>×1</td>\n",
       "      <td>×1</td>\n",
       "      <td>Πολίχνη Θεσσαλονίκης | Ενοικίαση...</td>\n",
       "      <td>×1989</td>\n",
       "      <td>7 €/τ.μ.</td>\n",
       "      <td>230 €</td>\n",
       "      <td>Διαμέρισμα</td>\n",
       "      <td>32 τ.μ.</td>\n",
       "    </tr>\n",
       "    <tr>\n",
       "      <th>5</th>\n",
       "      <td>Διαμέρισμα 30 τ.μ.</td>\n",
       "      <td>Ημιυπόγειο</td>\n",
       "      <td>×1</td>\n",
       "      <td>×1</td>\n",
       "      <td>Πολίχνη Θεσσαλονίκης | Ενοικίαση...</td>\n",
       "      <td>×2005</td>\n",
       "      <td>4 €/τ.μ.</td>\n",
       "      <td>120 €</td>\n",
       "      <td>Διαμέρισμα</td>\n",
       "      <td>30 τ.μ.</td>\n",
       "    </tr>\n",
       "  </tbody>\n",
       "</table>\n",
       "</div>"
      ],
      "text/plain": [
       "               Category                                         Floor  \\\n",
       "1    Διαμέρισμα 40 τ.μ.                       Ισόγειο                   \n",
       "2  Μονοκατοικία 75 τ.μ.                       Ισόγειο                   \n",
       "3    Διαμέρισμα 67 τ.μ.                     Ημιώροφος                   \n",
       "4    Διαμέρισμα 32 τ.μ.                           1ος                   \n",
       "5    Διαμέρισμα 30 τ.μ.                    Ημιυπόγειο                   \n",
       "\n",
       "  Bedrooms Bathrooms                                               Area  \\\n",
       "1       ×1        ×1                Πολίχνη Θεσσαλονίκης | Ενοικίαση...   \n",
       "2       ×3        ×1                Δ. Βασιλικών | Ενοικίαση κατοικί...   \n",
       "3       ×1        ×1                Πολίχνη Θεσσαλονίκης | Ενοικίαση...   \n",
       "4       ×1        ×1                Πολίχνη Θεσσαλονίκης | Ενοικίαση...   \n",
       "5       ×1        ×1                Πολίχνη Θεσσαλονίκης | Ενοικίαση...   \n",
       "\n",
       "    Year                         Price/m2(€/m^2) Price(€)          Type  \\\n",
       "1  ×2010                  6 €/τ.μ.                  250 €    Διαμέρισμα   \n",
       "2  ×1990                  6 €/τ.μ.                  450 €  Μονοκατοικία   \n",
       "3  ×1990                  6 €/τ.μ.                  400 €    Διαμέρισμα   \n",
       "4  ×1989                  7 €/τ.μ.                  230 €    Διαμέρισμα   \n",
       "5  ×2005                  4 €/τ.μ.                  120 €    Διαμέρισμα   \n",
       "\n",
       "  Surface m^2  \n",
       "1     40 τ.μ.  \n",
       "2     75 τ.μ.  \n",
       "3     67 τ.μ.  \n",
       "4     32 τ.μ.  \n",
       "5     30 τ.μ.  "
      ]
     },
     "execution_count": 6,
     "metadata": {},
     "output_type": "execute_result"
    }
   ],
   "source": [
    "est[['Type','Surface m^2']]=est['Category'].str.split(\" \",n=1, expand=True)\n",
    "est.head()"
   ]
  },
  {
   "cell_type": "code",
   "execution_count": 7,
   "id": "e4350e08-26d9-47ec-8db1-5fb90ac98a97",
   "metadata": {},
   "outputs": [
    {
     "data": {
      "text/html": [
       "<div>\n",
       "<style scoped>\n",
       "    .dataframe tbody tr th:only-of-type {\n",
       "        vertical-align: middle;\n",
       "    }\n",
       "\n",
       "    .dataframe tbody tr th {\n",
       "        vertical-align: top;\n",
       "    }\n",
       "\n",
       "    .dataframe thead th {\n",
       "        text-align: right;\n",
       "    }\n",
       "</style>\n",
       "<table border=\"1\" class=\"dataframe\">\n",
       "  <thead>\n",
       "    <tr style=\"text-align: right;\">\n",
       "      <th></th>\n",
       "      <th>Floor</th>\n",
       "      <th>Bedrooms</th>\n",
       "      <th>Bathrooms</th>\n",
       "      <th>Area</th>\n",
       "      <th>Year</th>\n",
       "      <th>Price/m2(€/m^2)</th>\n",
       "      <th>Price(€)</th>\n",
       "      <th>Type</th>\n",
       "      <th>Surface m^2</th>\n",
       "    </tr>\n",
       "  </thead>\n",
       "  <tbody>\n",
       "    <tr>\n",
       "      <th>1</th>\n",
       "      <td>Ισόγειο</td>\n",
       "      <td>×1</td>\n",
       "      <td>×1</td>\n",
       "      <td>Πολίχνη Θεσσαλονίκης | Ενοικίαση...</td>\n",
       "      <td>×2010</td>\n",
       "      <td>6 €/τ.μ.</td>\n",
       "      <td>250 €</td>\n",
       "      <td>Διαμέρισμα</td>\n",
       "      <td>40 τ.μ.</td>\n",
       "    </tr>\n",
       "    <tr>\n",
       "      <th>2</th>\n",
       "      <td>Ισόγειο</td>\n",
       "      <td>×3</td>\n",
       "      <td>×1</td>\n",
       "      <td>Δ. Βασιλικών | Ενοικίαση κατοικί...</td>\n",
       "      <td>×1990</td>\n",
       "      <td>6 €/τ.μ.</td>\n",
       "      <td>450 €</td>\n",
       "      <td>Μονοκατοικία</td>\n",
       "      <td>75 τ.μ.</td>\n",
       "    </tr>\n",
       "    <tr>\n",
       "      <th>3</th>\n",
       "      <td>Ημιώροφος</td>\n",
       "      <td>×1</td>\n",
       "      <td>×1</td>\n",
       "      <td>Πολίχνη Θεσσαλονίκης | Ενοικίαση...</td>\n",
       "      <td>×1990</td>\n",
       "      <td>6 €/τ.μ.</td>\n",
       "      <td>400 €</td>\n",
       "      <td>Διαμέρισμα</td>\n",
       "      <td>67 τ.μ.</td>\n",
       "    </tr>\n",
       "    <tr>\n",
       "      <th>4</th>\n",
       "      <td>1ος</td>\n",
       "      <td>×1</td>\n",
       "      <td>×1</td>\n",
       "      <td>Πολίχνη Θεσσαλονίκης | Ενοικίαση...</td>\n",
       "      <td>×1989</td>\n",
       "      <td>7 €/τ.μ.</td>\n",
       "      <td>230 €</td>\n",
       "      <td>Διαμέρισμα</td>\n",
       "      <td>32 τ.μ.</td>\n",
       "    </tr>\n",
       "    <tr>\n",
       "      <th>5</th>\n",
       "      <td>Ημιυπόγειο</td>\n",
       "      <td>×1</td>\n",
       "      <td>×1</td>\n",
       "      <td>Πολίχνη Θεσσαλονίκης | Ενοικίαση...</td>\n",
       "      <td>×2005</td>\n",
       "      <td>4 €/τ.μ.</td>\n",
       "      <td>120 €</td>\n",
       "      <td>Διαμέρισμα</td>\n",
       "      <td>30 τ.μ.</td>\n",
       "    </tr>\n",
       "  </tbody>\n",
       "</table>\n",
       "</div>"
      ],
      "text/plain": [
       "                                          Floor Bedrooms Bathrooms  \\\n",
       "1                       Ισόγειο                       ×1        ×1   \n",
       "2                       Ισόγειο                       ×3        ×1   \n",
       "3                     Ημιώροφος                       ×1        ×1   \n",
       "4                           1ος                       ×1        ×1   \n",
       "5                    Ημιυπόγειο                       ×1        ×1   \n",
       "\n",
       "                                                Area   Year  \\\n",
       "1                Πολίχνη Θεσσαλονίκης | Ενοικίαση...  ×2010   \n",
       "2                Δ. Βασιλικών | Ενοικίαση κατοικί...  ×1990   \n",
       "3                Πολίχνη Θεσσαλονίκης | Ενοικίαση...  ×1990   \n",
       "4                Πολίχνη Θεσσαλονίκης | Ενοικίαση...  ×1989   \n",
       "5                Πολίχνη Θεσσαλονίκης | Ενοικίαση...  ×2005   \n",
       "\n",
       "                          Price/m2(€/m^2) Price(€)          Type Surface m^2  \n",
       "1                  6 €/τ.μ.                  250 €    Διαμέρισμα     40 τ.μ.  \n",
       "2                  6 €/τ.μ.                  450 €  Μονοκατοικία     75 τ.μ.  \n",
       "3                  6 €/τ.μ.                  400 €    Διαμέρισμα     67 τ.μ.  \n",
       "4                  7 €/τ.μ.                  230 €    Διαμέρισμα     32 τ.μ.  \n",
       "5                  4 €/τ.μ.                  120 €    Διαμέρισμα     30 τ.μ.  "
      ]
     },
     "execution_count": 7,
     "metadata": {},
     "output_type": "execute_result"
    }
   ],
   "source": [
    "est.drop(columns=['Category'], inplace=True)\n",
    "est.head()"
   ]
  },
  {
   "cell_type": "markdown",
   "id": "7263612d-b3d6-4e3f-9d04-4a9b0a27a404",
   "metadata": {},
   "source": [
    "**Lets get rid off string characters and convert the numeric values to type int**"
   ]
  },
  {
   "cell_type": "code",
   "execution_count": 8,
   "id": "6c14c098-93a2-4cf7-922f-46d50699c713",
   "metadata": {},
   "outputs": [
    {
     "name": "stderr",
     "output_type": "stream",
     "text": [
      "C:\\Users\\user\\AppData\\Local\\Temp\\ipykernel_11440\\3454292683.py:1: FutureWarning: The default value of regex will change from True to False in a future version.\n",
      "  est['Bedrooms']=est['Bedrooms'].str.replace(r'\\D','').astype(int)\n",
      "C:\\Users\\user\\AppData\\Local\\Temp\\ipykernel_11440\\3454292683.py:2: FutureWarning: The default value of regex will change from True to False in a future version.\n",
      "  est['Bathrooms']=est['Bathrooms'].str.replace(r'\\D','').astype(int)\n",
      "C:\\Users\\user\\AppData\\Local\\Temp\\ipykernel_11440\\3454292683.py:3: FutureWarning: The default value of regex will change from True to False in a future version.\n",
      "  est['Price(€)']=est['Price(€)'].str.replace(r'\\D','').astype(int)\n",
      "C:\\Users\\user\\AppData\\Local\\Temp\\ipykernel_11440\\3454292683.py:4: FutureWarning: The default value of regex will change from True to False in a future version.\n",
      "  est['Surface m^2']=est['Surface m^2'].str.replace(r'\\D','').astype(int)\n",
      "C:\\Users\\user\\AppData\\Local\\Temp\\ipykernel_11440\\3454292683.py:5: FutureWarning: The default value of regex will change from True to False in a future version.\n",
      "  est['Year']=est['Year'].str.replace(r'\\D','').astype(int)\n",
      "C:\\Users\\user\\AppData\\Local\\Temp\\ipykernel_11440\\3454292683.py:6: FutureWarning: The default value of regex will change from True to False in a future version.\n",
      "  est['Price/m2(€/m^2)']=est['Price/m2(€/m^2)'].str.replace(r'\\D','').astype(int)\n"
     ]
    }
   ],
   "source": [
    "est['Bedrooms']=est['Bedrooms'].str.replace(r'\\D','').astype(int)\n",
    "est['Bathrooms']=est['Bathrooms'].str.replace(r'\\D','').astype(int)\n",
    "est['Price(€)']=est['Price(€)'].str.replace(r'\\D','').astype(int)\n",
    "est['Surface m^2']=est['Surface m^2'].str.replace(r'\\D','').astype(int)\n",
    "est['Year']=est['Year'].str.replace(r'\\D','').astype(int)\n",
    "est['Price/m2(€/m^2)']=est['Price/m2(€/m^2)'].str.replace(r'\\D','').astype(int)\n",
    "est['Floor']=est['Floor'].str.replace(r',','')"
   ]
  },
  {
   "cell_type": "code",
   "execution_count": 9,
   "id": "4dfa8be8-df7a-4452-bdf3-4f55be9559a3",
   "metadata": {},
   "outputs": [
    {
     "data": {
      "text/html": [
       "<div>\n",
       "<style scoped>\n",
       "    .dataframe tbody tr th:only-of-type {\n",
       "        vertical-align: middle;\n",
       "    }\n",
       "\n",
       "    .dataframe tbody tr th {\n",
       "        vertical-align: top;\n",
       "    }\n",
       "\n",
       "    .dataframe thead th {\n",
       "        text-align: right;\n",
       "    }\n",
       "</style>\n",
       "<table border=\"1\" class=\"dataframe\">\n",
       "  <thead>\n",
       "    <tr style=\"text-align: right;\">\n",
       "      <th></th>\n",
       "      <th>Floor</th>\n",
       "      <th>Bedrooms</th>\n",
       "      <th>Bathrooms</th>\n",
       "      <th>Area</th>\n",
       "      <th>Year</th>\n",
       "      <th>Price/m2(€/m^2)</th>\n",
       "      <th>Price(€)</th>\n",
       "      <th>Type</th>\n",
       "      <th>Surface m^2</th>\n",
       "    </tr>\n",
       "  </thead>\n",
       "  <tbody>\n",
       "    <tr>\n",
       "      <th>1</th>\n",
       "      <td>Ισόγειο</td>\n",
       "      <td>1</td>\n",
       "      <td>1</td>\n",
       "      <td>Πολίχνη Θεσσαλονίκης | Ενοικίαση...</td>\n",
       "      <td>2010</td>\n",
       "      <td>6</td>\n",
       "      <td>250</td>\n",
       "      <td>Διαμέρισμα</td>\n",
       "      <td>40</td>\n",
       "    </tr>\n",
       "    <tr>\n",
       "      <th>2</th>\n",
       "      <td>Ισόγειο</td>\n",
       "      <td>3</td>\n",
       "      <td>1</td>\n",
       "      <td>Δ. Βασιλικών | Ενοικίαση κατοικί...</td>\n",
       "      <td>1990</td>\n",
       "      <td>6</td>\n",
       "      <td>450</td>\n",
       "      <td>Μονοκατοικία</td>\n",
       "      <td>75</td>\n",
       "    </tr>\n",
       "    <tr>\n",
       "      <th>3</th>\n",
       "      <td>Ημιώροφος</td>\n",
       "      <td>1</td>\n",
       "      <td>1</td>\n",
       "      <td>Πολίχνη Θεσσαλονίκης | Ενοικίαση...</td>\n",
       "      <td>1990</td>\n",
       "      <td>6</td>\n",
       "      <td>400</td>\n",
       "      <td>Διαμέρισμα</td>\n",
       "      <td>67</td>\n",
       "    </tr>\n",
       "    <tr>\n",
       "      <th>4</th>\n",
       "      <td>1ος</td>\n",
       "      <td>1</td>\n",
       "      <td>1</td>\n",
       "      <td>Πολίχνη Θεσσαλονίκης | Ενοικίαση...</td>\n",
       "      <td>1989</td>\n",
       "      <td>7</td>\n",
       "      <td>230</td>\n",
       "      <td>Διαμέρισμα</td>\n",
       "      <td>32</td>\n",
       "    </tr>\n",
       "    <tr>\n",
       "      <th>5</th>\n",
       "      <td>Ημιυπόγειο</td>\n",
       "      <td>1</td>\n",
       "      <td>1</td>\n",
       "      <td>Πολίχνη Θεσσαλονίκης | Ενοικίαση...</td>\n",
       "      <td>2005</td>\n",
       "      <td>4</td>\n",
       "      <td>120</td>\n",
       "      <td>Διαμέρισμα</td>\n",
       "      <td>30</td>\n",
       "    </tr>\n",
       "  </tbody>\n",
       "</table>\n",
       "</div>"
      ],
      "text/plain": [
       "                                          Floor  Bedrooms  Bathrooms  \\\n",
       "1                       Ισόγειο                         1          1   \n",
       "2                       Ισόγειο                         3          1   \n",
       "3                     Ημιώροφος                         1          1   \n",
       "4                           1ος                         1          1   \n",
       "5                    Ημιυπόγειο                         1          1   \n",
       "\n",
       "                                                Area  Year  Price/m2(€/m^2)  \\\n",
       "1                Πολίχνη Θεσσαλονίκης | Ενοικίαση...  2010                6   \n",
       "2                Δ. Βασιλικών | Ενοικίαση κατοικί...  1990                6   \n",
       "3                Πολίχνη Θεσσαλονίκης | Ενοικίαση...  1990                6   \n",
       "4                Πολίχνη Θεσσαλονίκης | Ενοικίαση...  1989                7   \n",
       "5                Πολίχνη Θεσσαλονίκης | Ενοικίαση...  2005                4   \n",
       "\n",
       "   Price(€)          Type  Surface m^2  \n",
       "1       250    Διαμέρισμα           40  \n",
       "2       450  Μονοκατοικία           75  \n",
       "3       400    Διαμέρισμα           67  \n",
       "4       230    Διαμέρισμα           32  \n",
       "5       120    Διαμέρισμα           30  "
      ]
     },
     "execution_count": 9,
     "metadata": {},
     "output_type": "execute_result"
    }
   ],
   "source": [
    "est.head()"
   ]
  },
  {
   "cell_type": "code",
   "execution_count": 10,
   "id": "b9e84e13-4735-41e2-97b0-0fdd7df2ab86",
   "metadata": {},
   "outputs": [
    {
     "data": {
      "text/html": [
       "<div>\n",
       "<style scoped>\n",
       "    .dataframe tbody tr th:only-of-type {\n",
       "        vertical-align: middle;\n",
       "    }\n",
       "\n",
       "    .dataframe tbody tr th {\n",
       "        vertical-align: top;\n",
       "    }\n",
       "\n",
       "    .dataframe thead th {\n",
       "        text-align: right;\n",
       "    }\n",
       "</style>\n",
       "<table border=\"1\" class=\"dataframe\">\n",
       "  <thead>\n",
       "    <tr style=\"text-align: right;\">\n",
       "      <th></th>\n",
       "      <th>Floor</th>\n",
       "      <th>Bedrooms</th>\n",
       "      <th>Bathrooms</th>\n",
       "      <th>Area</th>\n",
       "      <th>Year</th>\n",
       "      <th>Price/m2(€/m^2)</th>\n",
       "      <th>Price(€)</th>\n",
       "      <th>Type</th>\n",
       "      <th>Surface m^2</th>\n",
       "    </tr>\n",
       "  </thead>\n",
       "  <tbody>\n",
       "    <tr>\n",
       "      <th>1</th>\n",
       "      <td>Ισόγειο</td>\n",
       "      <td>1</td>\n",
       "      <td>1</td>\n",
       "      <td>Πολίχνη Θεσσαλονίκης</td>\n",
       "      <td>2010</td>\n",
       "      <td>6</td>\n",
       "      <td>250</td>\n",
       "      <td>Διαμέρισμα</td>\n",
       "      <td>40</td>\n",
       "    </tr>\n",
       "    <tr>\n",
       "      <th>2</th>\n",
       "      <td>Ισόγειο</td>\n",
       "      <td>3</td>\n",
       "      <td>1</td>\n",
       "      <td>Δ. Βασιλικών</td>\n",
       "      <td>1990</td>\n",
       "      <td>6</td>\n",
       "      <td>450</td>\n",
       "      <td>Μονοκατοικία</td>\n",
       "      <td>75</td>\n",
       "    </tr>\n",
       "    <tr>\n",
       "      <th>3</th>\n",
       "      <td>Ημιώροφος</td>\n",
       "      <td>1</td>\n",
       "      <td>1</td>\n",
       "      <td>Πολίχνη Θεσσαλονίκης</td>\n",
       "      <td>1990</td>\n",
       "      <td>6</td>\n",
       "      <td>400</td>\n",
       "      <td>Διαμέρισμα</td>\n",
       "      <td>67</td>\n",
       "    </tr>\n",
       "    <tr>\n",
       "      <th>4</th>\n",
       "      <td>1ος</td>\n",
       "      <td>1</td>\n",
       "      <td>1</td>\n",
       "      <td>Πολίχνη Θεσσαλονίκης</td>\n",
       "      <td>1989</td>\n",
       "      <td>7</td>\n",
       "      <td>230</td>\n",
       "      <td>Διαμέρισμα</td>\n",
       "      <td>32</td>\n",
       "    </tr>\n",
       "    <tr>\n",
       "      <th>5</th>\n",
       "      <td>Ημιυπόγειο</td>\n",
       "      <td>1</td>\n",
       "      <td>1</td>\n",
       "      <td>Πολίχνη Θεσσαλονίκης</td>\n",
       "      <td>2005</td>\n",
       "      <td>4</td>\n",
       "      <td>120</td>\n",
       "      <td>Διαμέρισμα</td>\n",
       "      <td>30</td>\n",
       "    </tr>\n",
       "  </tbody>\n",
       "</table>\n",
       "</div>"
      ],
      "text/plain": [
       "                                          Floor  Bedrooms  Bathrooms  \\\n",
       "1                       Ισόγειο                         1          1   \n",
       "2                       Ισόγειο                         3          1   \n",
       "3                     Ημιώροφος                         1          1   \n",
       "4                           1ος                         1          1   \n",
       "5                    Ημιυπόγειο                         1          1   \n",
       "\n",
       "                                  Area  Year  Price/m2(€/m^2)  Price(€)  \\\n",
       "1                Πολίχνη Θεσσαλονίκης   2010                6       250   \n",
       "2                        Δ. Βασιλικών   1990                6       450   \n",
       "3                Πολίχνη Θεσσαλονίκης   1990                6       400   \n",
       "4                Πολίχνη Θεσσαλονίκης   1989                7       230   \n",
       "5                Πολίχνη Θεσσαλονίκης   2005                4       120   \n",
       "\n",
       "           Type  Surface m^2  \n",
       "1    Διαμέρισμα           40  \n",
       "2  Μονοκατοικία           75  \n",
       "3    Διαμέρισμα           67  \n",
       "4    Διαμέρισμα           32  \n",
       "5    Διαμέρισμα           30  "
      ]
     },
     "execution_count": 10,
     "metadata": {},
     "output_type": "execute_result"
    }
   ],
   "source": [
    "est.Area=est.Area.apply(lambda x: x.split('|')[0]) \n",
    "est.head()"
   ]
  },
  {
   "cell_type": "code",
   "execution_count": 11,
   "id": "51fd22cc-a3e4-4314-8eeb-51fc30914240",
   "metadata": {},
   "outputs": [],
   "source": [
    "# A function that removes unwanted string characters such as \"()\"\n",
    "def refine (text):\n",
    "    x=text.split(' ')\n",
    "    for i,string in enumerate(x):\n",
    "        x[i]=x[i].strip('()')\n",
    "        if (string==\"Θεσσαλονίκη\" or string==\"Θεσσαλονίκης\"):\n",
    "            x[i]=\"\" \n",
    "    y=' '.join(x)\n",
    "    z=y.strip()\n",
    "    return z        "
   ]
  },
  {
   "cell_type": "code",
   "execution_count": 12,
   "id": "09d5144c-3b40-4f37-889f-04ab25ab2964",
   "metadata": {},
   "outputs": [
    {
     "data": {
      "text/html": [
       "<div>\n",
       "<style scoped>\n",
       "    .dataframe tbody tr th:only-of-type {\n",
       "        vertical-align: middle;\n",
       "    }\n",
       "\n",
       "    .dataframe tbody tr th {\n",
       "        vertical-align: top;\n",
       "    }\n",
       "\n",
       "    .dataframe thead th {\n",
       "        text-align: right;\n",
       "    }\n",
       "</style>\n",
       "<table border=\"1\" class=\"dataframe\">\n",
       "  <thead>\n",
       "    <tr style=\"text-align: right;\">\n",
       "      <th></th>\n",
       "      <th>Floor</th>\n",
       "      <th>Bedrooms</th>\n",
       "      <th>Bathrooms</th>\n",
       "      <th>Area</th>\n",
       "      <th>Year</th>\n",
       "      <th>Price/m2(€/m^2)</th>\n",
       "      <th>Price(€)</th>\n",
       "      <th>Type</th>\n",
       "      <th>Surface m^2</th>\n",
       "    </tr>\n",
       "  </thead>\n",
       "  <tbody>\n",
       "    <tr>\n",
       "      <th>1</th>\n",
       "      <td>Ισόγειο</td>\n",
       "      <td>1</td>\n",
       "      <td>1</td>\n",
       "      <td>Πολίχνη</td>\n",
       "      <td>2010</td>\n",
       "      <td>6</td>\n",
       "      <td>250</td>\n",
       "      <td>Διαμέρισμα</td>\n",
       "      <td>40</td>\n",
       "    </tr>\n",
       "    <tr>\n",
       "      <th>2</th>\n",
       "      <td>Ισόγειο</td>\n",
       "      <td>3</td>\n",
       "      <td>1</td>\n",
       "      <td>Δ. Βασιλικών</td>\n",
       "      <td>1990</td>\n",
       "      <td>6</td>\n",
       "      <td>450</td>\n",
       "      <td>Μονοκατοικία</td>\n",
       "      <td>75</td>\n",
       "    </tr>\n",
       "    <tr>\n",
       "      <th>3</th>\n",
       "      <td>Ημιώροφος</td>\n",
       "      <td>1</td>\n",
       "      <td>1</td>\n",
       "      <td>Πολίχνη</td>\n",
       "      <td>1990</td>\n",
       "      <td>6</td>\n",
       "      <td>400</td>\n",
       "      <td>Διαμέρισμα</td>\n",
       "      <td>67</td>\n",
       "    </tr>\n",
       "    <tr>\n",
       "      <th>4</th>\n",
       "      <td>1ος</td>\n",
       "      <td>1</td>\n",
       "      <td>1</td>\n",
       "      <td>Πολίχνη</td>\n",
       "      <td>1989</td>\n",
       "      <td>7</td>\n",
       "      <td>230</td>\n",
       "      <td>Διαμέρισμα</td>\n",
       "      <td>32</td>\n",
       "    </tr>\n",
       "    <tr>\n",
       "      <th>5</th>\n",
       "      <td>Ημιυπόγειο</td>\n",
       "      <td>1</td>\n",
       "      <td>1</td>\n",
       "      <td>Πολίχνη</td>\n",
       "      <td>2005</td>\n",
       "      <td>4</td>\n",
       "      <td>120</td>\n",
       "      <td>Διαμέρισμα</td>\n",
       "      <td>30</td>\n",
       "    </tr>\n",
       "  </tbody>\n",
       "</table>\n",
       "</div>"
      ],
      "text/plain": [
       "                                          Floor  Bedrooms  Bathrooms  \\\n",
       "1                       Ισόγειο                         1          1   \n",
       "2                       Ισόγειο                         3          1   \n",
       "3                     Ημιώροφος                         1          1   \n",
       "4                           1ος                         1          1   \n",
       "5                    Ημιυπόγειο                         1          1   \n",
       "\n",
       "           Area  Year  Price/m2(€/m^2)  Price(€)          Type  Surface m^2  \n",
       "1       Πολίχνη  2010                6       250    Διαμέρισμα           40  \n",
       "2  Δ. Βασιλικών  1990                6       450  Μονοκατοικία           75  \n",
       "3       Πολίχνη  1990                6       400    Διαμέρισμα           67  \n",
       "4       Πολίχνη  1989                7       230    Διαμέρισμα           32  \n",
       "5       Πολίχνη  2005                4       120    Διαμέρισμα           30  "
      ]
     },
     "execution_count": 12,
     "metadata": {},
     "output_type": "execute_result"
    }
   ],
   "source": [
    "est['Area']=est['Area'].apply(refine)\n",
    "est.head()"
   ]
  },
  {
   "cell_type": "code",
   "execution_count": 13,
   "id": "c3d4bc7a-ded3-4910-ab42-3ee24fa95ecd",
   "metadata": {},
   "outputs": [
    {
     "data": {
      "text/html": [
       "<div>\n",
       "<style scoped>\n",
       "    .dataframe tbody tr th:only-of-type {\n",
       "        vertical-align: middle;\n",
       "    }\n",
       "\n",
       "    .dataframe tbody tr th {\n",
       "        vertical-align: top;\n",
       "    }\n",
       "\n",
       "    .dataframe thead th {\n",
       "        text-align: right;\n",
       "    }\n",
       "</style>\n",
       "<table border=\"1\" class=\"dataframe\">\n",
       "  <thead>\n",
       "    <tr style=\"text-align: right;\">\n",
       "      <th></th>\n",
       "      <th>Floor</th>\n",
       "      <th>Bedrooms</th>\n",
       "      <th>Bathrooms</th>\n",
       "      <th>Area</th>\n",
       "      <th>Year</th>\n",
       "      <th>Price/m2(€/m^2)</th>\n",
       "      <th>Price(€)</th>\n",
       "      <th>Type</th>\n",
       "      <th>Surface m^2</th>\n",
       "    </tr>\n",
       "  </thead>\n",
       "  <tbody>\n",
       "    <tr>\n",
       "      <th>1</th>\n",
       "      <td>Ισόγειο</td>\n",
       "      <td>1</td>\n",
       "      <td>1</td>\n",
       "      <td>Πολίχνη</td>\n",
       "      <td>2010</td>\n",
       "      <td>6</td>\n",
       "      <td>250</td>\n",
       "      <td>Διαμέρισμα</td>\n",
       "      <td>40</td>\n",
       "    </tr>\n",
       "    <tr>\n",
       "      <th>2</th>\n",
       "      <td>Ισόγειο</td>\n",
       "      <td>3</td>\n",
       "      <td>1</td>\n",
       "      <td>Δ. Βασιλικών</td>\n",
       "      <td>1990</td>\n",
       "      <td>6</td>\n",
       "      <td>450</td>\n",
       "      <td>Μονοκατοικία</td>\n",
       "      <td>75</td>\n",
       "    </tr>\n",
       "    <tr>\n",
       "      <th>3</th>\n",
       "      <td>Ημιώροφος</td>\n",
       "      <td>1</td>\n",
       "      <td>1</td>\n",
       "      <td>Πολίχνη</td>\n",
       "      <td>1990</td>\n",
       "      <td>6</td>\n",
       "      <td>400</td>\n",
       "      <td>Διαμέρισμα</td>\n",
       "      <td>67</td>\n",
       "    </tr>\n",
       "    <tr>\n",
       "      <th>4</th>\n",
       "      <td>1ος</td>\n",
       "      <td>1</td>\n",
       "      <td>1</td>\n",
       "      <td>Πολίχνη</td>\n",
       "      <td>1989</td>\n",
       "      <td>7</td>\n",
       "      <td>230</td>\n",
       "      <td>Διαμέρισμα</td>\n",
       "      <td>32</td>\n",
       "    </tr>\n",
       "    <tr>\n",
       "      <th>5</th>\n",
       "      <td>Ημιυπόγειο</td>\n",
       "      <td>1</td>\n",
       "      <td>1</td>\n",
       "      <td>Πολίχνη</td>\n",
       "      <td>2005</td>\n",
       "      <td>4</td>\n",
       "      <td>120</td>\n",
       "      <td>Διαμέρισμα</td>\n",
       "      <td>30</td>\n",
       "    </tr>\n",
       "  </tbody>\n",
       "</table>\n",
       "</div>"
      ],
      "text/plain": [
       "                                          Floor  Bedrooms  Bathrooms  \\\n",
       "1                       Ισόγειο                         1          1   \n",
       "2                       Ισόγειο                         3          1   \n",
       "3                     Ημιώροφος                         1          1   \n",
       "4                           1ος                         1          1   \n",
       "5                    Ημιυπόγειο                         1          1   \n",
       "\n",
       "           Area  Year  Price/m2(€/m^2)  Price(€)          Type  Surface m^2  \n",
       "1       Πολίχνη  2010                6       250    Διαμέρισμα           40  \n",
       "2  Δ. Βασιλικών  1990                6       450  Μονοκατοικία           75  \n",
       "3       Πολίχνη  1990                6       400    Διαμέρισμα           67  \n",
       "4       Πολίχνη  1989                7       230    Διαμέρισμα           32  \n",
       "5       Πολίχνη  2005                4       120    Διαμέρισμα           30  "
      ]
     },
     "execution_count": 13,
     "metadata": {},
     "output_type": "execute_result"
    }
   ],
   "source": [
    "est.head()"
   ]
  },
  {
   "cell_type": "code",
   "execution_count": 14,
   "id": "8f93d643-e5cc-4f07-bb1f-df8ad4235956",
   "metadata": {},
   "outputs": [
    {
     "data": {
      "text/plain": [
       "Κέντρο                      265\n",
       "Ανάληψη                     186\n",
       "Φάληρο                      133\n",
       "Ανω Πόλη                    123\n",
       "Ντεπώ                        91\n",
       "                           ... \n",
       "Thessaloniki Νέα Ελβετία      1\n",
       "Μελισσοχώρι                   1\n",
       "Μενεμένη Αμπελόκηποι          1\n",
       "Νέα Κεράσια                   1\n",
       "Πυλαία Νέα Ελβετία            1\n",
       "Name: Area, Length: 95, dtype: int64"
      ]
     },
     "execution_count": 14,
     "metadata": {},
     "output_type": "execute_result"
    }
   ],
   "source": [
    "est['Area'].value_counts()"
   ]
  },
  {
   "cell_type": "markdown",
   "id": "8c8f91ad-460f-4e88-a1ff-d757932f9b8f",
   "metadata": {},
   "source": [
    "**There are 95 different city areas. We will rename those areas that come up less than 10 times to \"Other Area\"**"
   ]
  },
  {
   "cell_type": "code",
   "execution_count": 15,
   "id": "3364d2e7-791e-47da-b7be-62b42d531b87",
   "metadata": {},
   "outputs": [
    {
     "data": {
      "text/plain": [
       "Area\n",
       "Μακρύγιαλος      1\n",
       "Ζαγκλιβέρι       1\n",
       "Κιλκίς           1\n",
       "Κύμινα           1\n",
       "Λαγυνά           1\n",
       "              ... \n",
       "Ντεπώ           91\n",
       "Ανω Πόλη       123\n",
       "Φάληρο         133\n",
       "Ανάληψη        186\n",
       "Κέντρο         265\n",
       "Name: Area, Length: 95, dtype: int64"
      ]
     },
     "execution_count": 15,
     "metadata": {},
     "output_type": "execute_result"
    }
   ],
   "source": [
    "area_stats=est.groupby('Area')['Area'].agg('count').sort_values(ascending=True)\n",
    "area_stats"
   ]
  },
  {
   "cell_type": "code",
   "execution_count": 16,
   "id": "fc0c4694-f7ac-496f-a1c9-c237555c54d5",
   "metadata": {},
   "outputs": [
    {
     "data": {
      "text/plain": [
       "68"
      ]
     },
     "execution_count": 16,
     "metadata": {},
     "output_type": "execute_result"
    }
   ],
   "source": [
    "len(area_stats[area_stats<=10])"
   ]
  },
  {
   "cell_type": "code",
   "execution_count": 17,
   "id": "5dfd4a0b-11ab-4d43-aedb-14d375c34d5d",
   "metadata": {},
   "outputs": [
    {
     "data": {
      "text/plain": [
       "Area\n",
       "Μακρύγιαλος    1\n",
       "Ζαγκλιβέρι     1\n",
       "Κιλκίς         1\n",
       "Κύμινα         1\n",
       "Λαγυνά         1\n",
       "              ..\n",
       "Τρίλοφος       6\n",
       "Σίνδος         7\n",
       "Δικαστήρια     7\n",
       "Μενεμένη       9\n",
       "Θέρμη          9\n",
       "Name: Area, Length: 68, dtype: int64"
      ]
     },
     "execution_count": 17,
     "metadata": {},
     "output_type": "execute_result"
    }
   ],
   "source": [
    "area=area_stats[area_stats<=10]\n",
    "area"
   ]
  },
  {
   "cell_type": "code",
   "execution_count": 18,
   "id": "787b866e-a3fa-4539-9da8-babe2e0a10d7",
   "metadata": {},
   "outputs": [
    {
     "data": {
      "text/plain": [
       "28"
      ]
     },
     "execution_count": 18,
     "metadata": {},
     "output_type": "execute_result"
    }
   ],
   "source": [
    "est.Area=est.Area.apply(lambda x: \"Other Area\" if x in area else x)\n",
    "len(est.Area.unique())"
   ]
  },
  {
   "cell_type": "code",
   "execution_count": 19,
   "id": "9a905077-b180-4647-a76d-863b0e7dfac9",
   "metadata": {},
   "outputs": [
    {
     "data": {
      "text/html": [
       "<div>\n",
       "<style scoped>\n",
       "    .dataframe tbody tr th:only-of-type {\n",
       "        vertical-align: middle;\n",
       "    }\n",
       "\n",
       "    .dataframe tbody tr th {\n",
       "        vertical-align: top;\n",
       "    }\n",
       "\n",
       "    .dataframe thead th {\n",
       "        text-align: right;\n",
       "    }\n",
       "</style>\n",
       "<table border=\"1\" class=\"dataframe\">\n",
       "  <thead>\n",
       "    <tr style=\"text-align: right;\">\n",
       "      <th></th>\n",
       "      <th>Floor</th>\n",
       "      <th>Bedrooms</th>\n",
       "      <th>Bathrooms</th>\n",
       "      <th>Area</th>\n",
       "      <th>Year</th>\n",
       "      <th>Price/m2(€/m^2)</th>\n",
       "      <th>Price(€)</th>\n",
       "      <th>Type</th>\n",
       "      <th>Surface m^2</th>\n",
       "    </tr>\n",
       "  </thead>\n",
       "  <tbody>\n",
       "    <tr>\n",
       "      <th>1</th>\n",
       "      <td>Ισόγειο</td>\n",
       "      <td>1</td>\n",
       "      <td>1</td>\n",
       "      <td>Πολίχνη</td>\n",
       "      <td>2010</td>\n",
       "      <td>6</td>\n",
       "      <td>250</td>\n",
       "      <td>Διαμέρισμα</td>\n",
       "      <td>40</td>\n",
       "    </tr>\n",
       "    <tr>\n",
       "      <th>2</th>\n",
       "      <td>Ισόγειο</td>\n",
       "      <td>3</td>\n",
       "      <td>1</td>\n",
       "      <td>Other Area</td>\n",
       "      <td>1990</td>\n",
       "      <td>6</td>\n",
       "      <td>450</td>\n",
       "      <td>Μονοκατοικία</td>\n",
       "      <td>75</td>\n",
       "    </tr>\n",
       "    <tr>\n",
       "      <th>3</th>\n",
       "      <td>Ημιώροφος</td>\n",
       "      <td>1</td>\n",
       "      <td>1</td>\n",
       "      <td>Πολίχνη</td>\n",
       "      <td>1990</td>\n",
       "      <td>6</td>\n",
       "      <td>400</td>\n",
       "      <td>Διαμέρισμα</td>\n",
       "      <td>67</td>\n",
       "    </tr>\n",
       "    <tr>\n",
       "      <th>4</th>\n",
       "      <td>1ος</td>\n",
       "      <td>1</td>\n",
       "      <td>1</td>\n",
       "      <td>Πολίχνη</td>\n",
       "      <td>1989</td>\n",
       "      <td>7</td>\n",
       "      <td>230</td>\n",
       "      <td>Διαμέρισμα</td>\n",
       "      <td>32</td>\n",
       "    </tr>\n",
       "    <tr>\n",
       "      <th>5</th>\n",
       "      <td>Ημιυπόγειο</td>\n",
       "      <td>1</td>\n",
       "      <td>1</td>\n",
       "      <td>Πολίχνη</td>\n",
       "      <td>2005</td>\n",
       "      <td>4</td>\n",
       "      <td>120</td>\n",
       "      <td>Διαμέρισμα</td>\n",
       "      <td>30</td>\n",
       "    </tr>\n",
       "  </tbody>\n",
       "</table>\n",
       "</div>"
      ],
      "text/plain": [
       "                                          Floor  Bedrooms  Bathrooms  \\\n",
       "1                       Ισόγειο                         1          1   \n",
       "2                       Ισόγειο                         3          1   \n",
       "3                     Ημιώροφος                         1          1   \n",
       "4                           1ος                         1          1   \n",
       "5                    Ημιυπόγειο                         1          1   \n",
       "\n",
       "         Area  Year  Price/m2(€/m^2)  Price(€)          Type  Surface m^2  \n",
       "1     Πολίχνη  2010                6       250    Διαμέρισμα           40  \n",
       "2  Other Area  1990                6       450  Μονοκατοικία           75  \n",
       "3     Πολίχνη  1990                6       400    Διαμέρισμα           67  \n",
       "4     Πολίχνη  1989                7       230    Διαμέρισμα           32  \n",
       "5     Πολίχνη  2005                4       120    Διαμέρισμα           30  "
      ]
     },
     "execution_count": 19,
     "metadata": {},
     "output_type": "execute_result"
    }
   ],
   "source": [
    "est.head()"
   ]
  },
  {
   "cell_type": "markdown",
   "id": "f4075df0-784b-42e6-ad9c-e027d1b7935b",
   "metadata": {},
   "source": [
    "**Now that we cleaned our data we will make a copy of our dataframe and move on to analyse them**"
   ]
  },
  {
   "cell_type": "code",
   "execution_count": 20,
   "id": "58eb3b32-3469-4c58-b1d1-7402afab6439",
   "metadata": {},
   "outputs": [
    {
     "data": {
      "text/html": [
       "<div>\n",
       "<style scoped>\n",
       "    .dataframe tbody tr th:only-of-type {\n",
       "        vertical-align: middle;\n",
       "    }\n",
       "\n",
       "    .dataframe tbody tr th {\n",
       "        vertical-align: top;\n",
       "    }\n",
       "\n",
       "    .dataframe thead th {\n",
       "        text-align: right;\n",
       "    }\n",
       "</style>\n",
       "<table border=\"1\" class=\"dataframe\">\n",
       "  <thead>\n",
       "    <tr style=\"text-align: right;\">\n",
       "      <th></th>\n",
       "      <th>Floor</th>\n",
       "      <th>Bedrooms</th>\n",
       "      <th>Bathrooms</th>\n",
       "      <th>Area</th>\n",
       "      <th>Year</th>\n",
       "      <th>Price/m2(€/m^2)</th>\n",
       "      <th>Price(€)</th>\n",
       "      <th>Type</th>\n",
       "      <th>Surface m^2</th>\n",
       "    </tr>\n",
       "  </thead>\n",
       "  <tbody>\n",
       "    <tr>\n",
       "      <th>1</th>\n",
       "      <td>Ισόγειο</td>\n",
       "      <td>1</td>\n",
       "      <td>1</td>\n",
       "      <td>Πολίχνη</td>\n",
       "      <td>2010</td>\n",
       "      <td>6</td>\n",
       "      <td>250</td>\n",
       "      <td>Διαμέρισμα</td>\n",
       "      <td>40</td>\n",
       "    </tr>\n",
       "    <tr>\n",
       "      <th>2</th>\n",
       "      <td>Ισόγειο</td>\n",
       "      <td>3</td>\n",
       "      <td>1</td>\n",
       "      <td>Other Area</td>\n",
       "      <td>1990</td>\n",
       "      <td>6</td>\n",
       "      <td>450</td>\n",
       "      <td>Μονοκατοικία</td>\n",
       "      <td>75</td>\n",
       "    </tr>\n",
       "    <tr>\n",
       "      <th>3</th>\n",
       "      <td>Ημιώροφος</td>\n",
       "      <td>1</td>\n",
       "      <td>1</td>\n",
       "      <td>Πολίχνη</td>\n",
       "      <td>1990</td>\n",
       "      <td>6</td>\n",
       "      <td>400</td>\n",
       "      <td>Διαμέρισμα</td>\n",
       "      <td>67</td>\n",
       "    </tr>\n",
       "    <tr>\n",
       "      <th>4</th>\n",
       "      <td>1ος</td>\n",
       "      <td>1</td>\n",
       "      <td>1</td>\n",
       "      <td>Πολίχνη</td>\n",
       "      <td>1989</td>\n",
       "      <td>7</td>\n",
       "      <td>230</td>\n",
       "      <td>Διαμέρισμα</td>\n",
       "      <td>32</td>\n",
       "    </tr>\n",
       "    <tr>\n",
       "      <th>5</th>\n",
       "      <td>Ημιυπόγειο</td>\n",
       "      <td>1</td>\n",
       "      <td>1</td>\n",
       "      <td>Πολίχνη</td>\n",
       "      <td>2005</td>\n",
       "      <td>4</td>\n",
       "      <td>120</td>\n",
       "      <td>Διαμέρισμα</td>\n",
       "      <td>30</td>\n",
       "    </tr>\n",
       "  </tbody>\n",
       "</table>\n",
       "</div>"
      ],
      "text/plain": [
       "                                          Floor  Bedrooms  Bathrooms  \\\n",
       "1                       Ισόγειο                         1          1   \n",
       "2                       Ισόγειο                         3          1   \n",
       "3                     Ημιώροφος                         1          1   \n",
       "4                           1ος                         1          1   \n",
       "5                    Ημιυπόγειο                         1          1   \n",
       "\n",
       "         Area  Year  Price/m2(€/m^2)  Price(€)          Type  Surface m^2  \n",
       "1     Πολίχνη  2010                6       250    Διαμέρισμα           40  \n",
       "2  Other Area  1990                6       450  Μονοκατοικία           75  \n",
       "3     Πολίχνη  1990                6       400    Διαμέρισμα           67  \n",
       "4     Πολίχνη  1989                7       230    Διαμέρισμα           32  \n",
       "5     Πολίχνη  2005                4       120    Διαμέρισμα           30  "
      ]
     },
     "execution_count": 20,
     "metadata": {},
     "output_type": "execute_result"
    }
   ],
   "source": [
    "cleaned=est.copy()\n",
    "cleaned.head()"
   ]
  },
  {
   "cell_type": "markdown",
   "id": "737d1c29-547f-42f0-97cf-2f098070f206",
   "metadata": {
    "tags": []
   },
   "source": [
    "## Exploratory Data Analysis"
   ]
  },
  {
   "cell_type": "code",
   "execution_count": 21,
   "id": "5daf20bf-870d-4e84-9b06-31d8d18e45fc",
   "metadata": {},
   "outputs": [
    {
     "name": "stdout",
     "output_type": "stream",
     "text": [
      "<class 'pandas.core.frame.DataFrame'>\n",
      "Int64Index: 1782 entries, 1 to 2048\n",
      "Data columns (total 9 columns):\n",
      " #   Column           Non-Null Count  Dtype \n",
      "---  ------           --------------  ----- \n",
      " 0   Floor            1782 non-null   object\n",
      " 1   Bedrooms         1782 non-null   int32 \n",
      " 2   Bathrooms        1782 non-null   int32 \n",
      " 3   Area             1782 non-null   object\n",
      " 4   Year             1782 non-null   int32 \n",
      " 5   Price/m2(€/m^2)  1782 non-null   int32 \n",
      " 6   Price(€)         1782 non-null   int32 \n",
      " 7   Type             1782 non-null   object\n",
      " 8   Surface m^2      1782 non-null   int32 \n",
      "dtypes: int32(6), object(3)\n",
      "memory usage: 97.5+ KB\n"
     ]
    }
   ],
   "source": [
    "cleaned.info()"
   ]
  },
  {
   "cell_type": "markdown",
   "id": "a4f66c9e-3e16-4243-a549-944de016dfd1",
   "metadata": {
    "tags": []
   },
   "source": [
    "### Data Visualization"
   ]
  },
  {
   "cell_type": "code",
   "execution_count": 22,
   "id": "a953e90f-6260-49ad-9baf-2955e4f27a46",
   "metadata": {},
   "outputs": [],
   "source": [
    "%matplotlib inline \n",
    "import matplotlib.pyplot as plt\n",
    "import seaborn as sns"
   ]
  },
  {
   "cell_type": "code",
   "execution_count": 23,
   "id": "905309b4-caa7-47a3-920e-5927060e5af1",
   "metadata": {},
   "outputs": [],
   "source": [
    "# A function for plotting barplots\n",
    "def plots(df, colname, xsize, ysize):\n",
    "    fig = plt.figure(figsize = (xsize, ysize))\n",
    "    plt.bar(df[colname].unique(),df[colname].value_counts(sort=False))\n",
    "    plt.xlabel(\"Number of {}\".format(colname))\n",
    "    plt.ylabel(\"{} Count\".format(colname))\n",
    "    plt.title(\"{}\".format(colname))"
   ]
  },
  {
   "cell_type": "code",
   "execution_count": 24,
   "id": "402df203-167e-4233-ac2f-31e9539344f4",
   "metadata": {},
   "outputs": [
    {
     "data": {
      "image/png": "[encoded data removed]",
      "text/plain": [
       "<Figure size 720x360 with 1 Axes>"
      ]
     },
     "metadata": {
      "needs_background": "light"
     },
     "output_type": "display_data"
    }
   ],
   "source": [
    "plots(cleaned,\"Bedrooms\",10,5)"
   ]
  },
  {
   "cell_type": "markdown",
   "id": "10b7f403-df30-4509-aa80-c1086d77f403",
   "metadata": {},
   "source": [
    "**The majority of the houses have less than 4 bedrooms and most of them are either 1 or 2 bedroom apartments**"
   ]
  },
  {
   "cell_type": "code",
   "execution_count": 25,
   "id": "d53f0be9-303b-4337-8e25-2b4a4cc46b40",
   "metadata": {},
   "outputs": [
    {
     "data": {
      "image/png": "[encoded data removed]",
      "text/plain": [
       "<Figure size 720x360 with 1 Axes>"
      ]
     },
     "metadata": {
      "needs_background": "light"
     },
     "output_type": "display_data"
    }
   ],
   "source": [
    "plots(cleaned,\"Bathrooms\",10,5)"
   ]
  },
  {
   "cell_type": "markdown",
   "id": "f98800ac-4f68-45c6-8898-4671626af19c",
   "metadata": {},
   "source": [
    "**Almost all of the houses have one bathroom**"
   ]
  },
  {
   "cell_type": "code",
   "execution_count": 26,
   "id": "407cdfb1-61bf-4d9e-863b-91f230cb8e17",
   "metadata": {},
   "outputs": [
    {
     "data": {
      "image/png": "[encoded data removed]",
      "text/plain": [
       "<Figure size 1008x432 with 1 Axes>"
      ]
     },
     "metadata": {
      "needs_background": "light"
     },
     "output_type": "display_data"
    }
   ],
   "source": [
    "plots(cleaned,\"Floor\",14,6)"
   ]
  },
  {
   "cell_type": "markdown",
   "id": "548390bd-3275-4bec-8d39-236240739c1a",
   "metadata": {},
   "source": [
    "**The majority of the apartments are on the first 4 floors**"
   ]
  },
  {
   "cell_type": "code",
   "execution_count": 27,
   "id": "9a982b71-67d2-4022-bcf6-3278f8e02387",
   "metadata": {},
   "outputs": [
    {
     "data": {
      "image/png": "[encoded data removed]",
      "text/plain": [
       "<Figure size 1152x720 with 1 Axes>"
      ]
     },
     "metadata": {
      "needs_background": "light"
     },
     "output_type": "display_data"
    }
   ],
   "source": [
    "labels = cleaned[\"Type\"].unique()\n",
    "sizes = cleaned[\"Type\"].value_counts()\n",
    "\n",
    "fig1, ax1 = plt.subplots(figsize=(16, 10))\n",
    "ax1.pie(sizes, autopct='%1.1f%%',\n",
    "        shadow=True, startangle=90, frame=True, pctdistance=1.05)\n",
    "ax1.axis('equal')  # Equal aspect ratio ensures that pie is drawn as a circle.\n",
    "plt.legend(labels)\n",
    "plt.show()"
   ]
  },
  {
   "cell_type": "markdown",
   "id": "212c3a6a-50b1-4355-9719-5081de3cd312",
   "metadata": {},
   "source": [
    "**We can observe the vast majority of our houses are apartments**"
   ]
  },
  {
   "cell_type": "markdown",
   "id": "efadf048-d618-4c3b-89f2-1032de624ae9",
   "metadata": {},
   "source": [
    "**Descriptive Statistics**"
   ]
  },
  {
   "cell_type": "code",
   "execution_count": 28,
   "id": "155912d3-f640-4959-a1a9-e8f0a28d0fb6",
   "metadata": {},
   "outputs": [
    {
     "data": {
      "text/html": [
       "<div>\n",
       "<style scoped>\n",
       "    .dataframe tbody tr th:only-of-type {\n",
       "        vertical-align: middle;\n",
       "    }\n",
       "\n",
       "    .dataframe tbody tr th {\n",
       "        vertical-align: top;\n",
       "    }\n",
       "\n",
       "    .dataframe thead th {\n",
       "        text-align: right;\n",
       "    }\n",
       "</style>\n",
       "<table border=\"1\" class=\"dataframe\">\n",
       "  <thead>\n",
       "    <tr style=\"text-align: right;\">\n",
       "      <th></th>\n",
       "      <th>Bedrooms</th>\n",
       "      <th>Bathrooms</th>\n",
       "      <th>Year</th>\n",
       "      <th>Price/m2(€/m^2)</th>\n",
       "      <th>Price(€)</th>\n",
       "      <th>Surface m^2</th>\n",
       "    </tr>\n",
       "  </thead>\n",
       "  <tbody>\n",
       "    <tr>\n",
       "      <th>count</th>\n",
       "      <td>1782.000000</td>\n",
       "      <td>1782.000000</td>\n",
       "      <td>1782.000000</td>\n",
       "      <td>1782.000000</td>\n",
       "      <td>1782.000000</td>\n",
       "      <td>1782.000000</td>\n",
       "    </tr>\n",
       "    <tr>\n",
       "      <th>mean</th>\n",
       "      <td>1.746914</td>\n",
       "      <td>1.076319</td>\n",
       "      <td>1982.615600</td>\n",
       "      <td>10.806397</td>\n",
       "      <td>727.136925</td>\n",
       "      <td>75.062290</td>\n",
       "    </tr>\n",
       "    <tr>\n",
       "      <th>std</th>\n",
       "      <td>0.829299</td>\n",
       "      <td>0.326295</td>\n",
       "      <td>15.917419</td>\n",
       "      <td>67.637323</td>\n",
       "      <td>5146.148586</td>\n",
       "      <td>54.056514</td>\n",
       "    </tr>\n",
       "    <tr>\n",
       "      <th>min</th>\n",
       "      <td>1.000000</td>\n",
       "      <td>1.000000</td>\n",
       "      <td>1900.000000</td>\n",
       "      <td>1.000000</td>\n",
       "      <td>50.000000</td>\n",
       "      <td>15.000000</td>\n",
       "    </tr>\n",
       "    <tr>\n",
       "      <th>25%</th>\n",
       "      <td>1.000000</td>\n",
       "      <td>1.000000</td>\n",
       "      <td>1970.000000</td>\n",
       "      <td>6.000000</td>\n",
       "      <td>370.000000</td>\n",
       "      <td>45.000000</td>\n",
       "    </tr>\n",
       "    <tr>\n",
       "      <th>50%</th>\n",
       "      <td>2.000000</td>\n",
       "      <td>1.000000</td>\n",
       "      <td>1979.000000</td>\n",
       "      <td>7.000000</td>\n",
       "      <td>450.000000</td>\n",
       "      <td>65.000000</td>\n",
       "    </tr>\n",
       "    <tr>\n",
       "      <th>75%</th>\n",
       "      <td>2.000000</td>\n",
       "      <td>1.000000</td>\n",
       "      <td>1994.000000</td>\n",
       "      <td>9.000000</td>\n",
       "      <td>600.000000</td>\n",
       "      <td>90.000000</td>\n",
       "    </tr>\n",
       "    <tr>\n",
       "      <th>max</th>\n",
       "      <td>7.000000</td>\n",
       "      <td>4.000000</td>\n",
       "      <td>2022.000000</td>\n",
       "      <td>2330.000000</td>\n",
       "      <td>205000.000000</td>\n",
       "      <td>900.000000</td>\n",
       "    </tr>\n",
       "  </tbody>\n",
       "</table>\n",
       "</div>"
      ],
      "text/plain": [
       "          Bedrooms    Bathrooms         Year  Price/m2(€/m^2)       Price(€)  \\\n",
       "count  1782.000000  1782.000000  1782.000000      1782.000000    1782.000000   \n",
       "mean      1.746914     1.076319  1982.615600        10.806397     727.136925   \n",
       "std       0.829299     0.326295    15.917419        67.637323    5146.148586   \n",
       "min       1.000000     1.000000  1900.000000         1.000000      50.000000   \n",
       "25%       1.000000     1.000000  1970.000000         6.000000     370.000000   \n",
       "50%       2.000000     1.000000  1979.000000         7.000000     450.000000   \n",
       "75%       2.000000     1.000000  1994.000000         9.000000     600.000000   \n",
       "max       7.000000     4.000000  2022.000000      2330.000000  205000.000000   \n",
       "\n",
       "       Surface m^2  \n",
       "count  1782.000000  \n",
       "mean     75.062290  \n",
       "std      54.056514  \n",
       "min      15.000000  \n",
       "25%      45.000000  \n",
       "50%      65.000000  \n",
       "75%      90.000000  \n",
       "max     900.000000  "
      ]
     },
     "execution_count": 28,
     "metadata": {},
     "output_type": "execute_result"
    }
   ],
   "source": [
    "cleaned.describe()"
   ]
  },
  {
   "cell_type": "markdown",
   "id": "f85f3c19-3bcc-4afe-9b5e-ec26a7e3b865",
   "metadata": {},
   "source": [
    "**We can see that the maximum values for Price and Price/m2 are far greater than the mean values**"
   ]
  },
  {
   "cell_type": "markdown",
   "id": "d0c1b11b-ac20-40c0-839e-8c006e3ef9a4",
   "metadata": {},
   "source": [
    "**Boxplot Price/m2**"
   ]
  },
  {
   "cell_type": "code",
   "execution_count": 29,
   "id": "5771a0a9-e408-4f5f-ad72-f7465dc33133",
   "metadata": {},
   "outputs": [
    {
     "data": {
      "image/png": "[encoded data removed]",
      "text/plain": [
       "<Figure size 720x504 with 1 Axes>"
      ]
     },
     "metadata": {
      "needs_background": "light"
     },
     "output_type": "display_data"
    }
   ],
   "source": [
    "fig=plt.figure(figsize=(10,7))\n",
    "plt.boxplot(cleaned['Price/m2(€/m^2)'])\n",
    "plt.show()"
   ]
  },
  {
   "cell_type": "markdown",
   "id": "f4dac1fe-9eea-440f-bee8-775901e0055d",
   "metadata": {},
   "source": [
    "**We will remove the outliers using Z-score**"
   ]
  },
  {
   "cell_type": "code",
   "execution_count": 30,
   "id": "6e1f5e62-05b2-4bb9-8c77-ac10c52ca16b",
   "metadata": {},
   "outputs": [
    {
     "name": "stdout",
     "output_type": "stream",
     "text": [
      "<class 'pandas.core.frame.DataFrame'>\n",
      "Int64Index: 1778 entries, 1 to 2048\n",
      "Data columns (total 9 columns):\n",
      " #   Column           Non-Null Count  Dtype \n",
      "---  ------           --------------  ----- \n",
      " 0   Floor            1778 non-null   object\n",
      " 1   Bedrooms         1778 non-null   int32 \n",
      " 2   Bathrooms        1778 non-null   int32 \n",
      " 3   Area             1778 non-null   object\n",
      " 4   Year             1778 non-null   int32 \n",
      " 5   Price/m2(€/m^2)  1778 non-null   int32 \n",
      " 6   Price(€)         1778 non-null   int32 \n",
      " 7   Type             1778 non-null   object\n",
      " 8   Surface m^2      1778 non-null   int32 \n",
      "dtypes: int32(6), object(3)\n",
      "memory usage: 97.2+ KB\n"
     ]
    }
   ],
   "source": [
    "m=np.mean(cleaned['Price/m2(€/m^2)'])\n",
    "s=np.std(cleaned['Price/m2(€/m^2)'])\n",
    "cleaned1=cleaned[((cleaned['Price/m2(€/m^2)']>(m-s)) & (cleaned['Price/m2(€/m^2)']<=(m+s)))]\n",
    "cleaned1.info()"
   ]
  },
  {
   "cell_type": "code",
   "execution_count": 31,
   "id": "7dc2d434-9102-4f70-8fce-5ebdf6bb8acd",
   "metadata": {},
   "outputs": [
    {
     "name": "stdout",
     "output_type": "stream",
     "text": [
      "67.61834289432728\n"
     ]
    }
   ],
   "source": [
    "print(s)"
   ]
  },
  {
   "cell_type": "code",
   "execution_count": 32,
   "id": "f209ae0c-83c5-4966-9460-f6df440a22d0",
   "metadata": {},
   "outputs": [
    {
     "data": {
      "image/png": "[encoded data removed]",
      "text/plain": [
       "<Figure size 720x504 with 1 Axes>"
      ]
     },
     "metadata": {
      "needs_background": "light"
     },
     "output_type": "display_data"
    }
   ],
   "source": [
    "fig=plt.figure(figsize=(10,7))\n",
    "plt.boxplot(cleaned1['Price/m2(€/m^2)'])\n",
    "plt.show()"
   ]
  },
  {
   "cell_type": "markdown",
   "id": "fb01f1a7-feda-40fa-9f51-edfedce0c2fc",
   "metadata": {},
   "source": [
    "**So much better now**"
   ]
  },
  {
   "cell_type": "code",
   "execution_count": 33,
   "id": "69d59979-32e8-48f5-8e68-6dd5e7911eb6",
   "metadata": {},
   "outputs": [
    {
     "data": {
      "text/plain": [
       "count    1778.000000\n",
       "mean        7.981440\n",
       "std         3.127239\n",
       "min         1.000000\n",
       "25%         6.000000\n",
       "50%         7.000000\n",
       "75%         9.000000\n",
       "max        32.000000\n",
       "Name: Price/m2(€/m^2), dtype: float64"
      ]
     },
     "execution_count": 33,
     "metadata": {},
     "output_type": "execute_result"
    }
   ],
   "source": [
    "cleaned1['Price/m2(€/m^2)'].describe()"
   ]
  },
  {
   "cell_type": "code",
   "execution_count": 34,
   "id": "cd5a1afd-c6c8-4190-9ad3-a895071835b4",
   "metadata": {},
   "outputs": [
    {
     "data": {
      "text/html": [
       "<div>\n",
       "<style scoped>\n",
       "    .dataframe tbody tr th:only-of-type {\n",
       "        vertical-align: middle;\n",
       "    }\n",
       "\n",
       "    .dataframe tbody tr th {\n",
       "        vertical-align: top;\n",
       "    }\n",
       "\n",
       "    .dataframe thead th {\n",
       "        text-align: right;\n",
       "    }\n",
       "</style>\n",
       "<table border=\"1\" class=\"dataframe\">\n",
       "  <thead>\n",
       "    <tr style=\"text-align: right;\">\n",
       "      <th></th>\n",
       "      <th>Bedrooms</th>\n",
       "      <th>Bathrooms</th>\n",
       "      <th>Year</th>\n",
       "      <th>Price/m2(€/m^2)</th>\n",
       "      <th>Price(€)</th>\n",
       "      <th>Surface m^2</th>\n",
       "    </tr>\n",
       "  </thead>\n",
       "  <tbody>\n",
       "    <tr>\n",
       "      <th>count</th>\n",
       "      <td>1778.000000</td>\n",
       "      <td>1778.000000</td>\n",
       "      <td>1778.000000</td>\n",
       "      <td>1778.000000</td>\n",
       "      <td>1778.000000</td>\n",
       "      <td>1778.000000</td>\n",
       "    </tr>\n",
       "    <tr>\n",
       "      <th>mean</th>\n",
       "      <td>1.747469</td>\n",
       "      <td>1.076490</td>\n",
       "      <td>1982.593363</td>\n",
       "      <td>7.981440</td>\n",
       "      <td>549.920135</td>\n",
       "      <td>75.116423</td>\n",
       "    </tr>\n",
       "    <tr>\n",
       "      <th>std</th>\n",
       "      <td>0.829810</td>\n",
       "      <td>0.326642</td>\n",
       "      <td>15.915629</td>\n",
       "      <td>3.127239</td>\n",
       "      <td>460.268389</td>\n",
       "      <td>54.094869</td>\n",
       "    </tr>\n",
       "    <tr>\n",
       "      <th>min</th>\n",
       "      <td>1.000000</td>\n",
       "      <td>1.000000</td>\n",
       "      <td>1900.000000</td>\n",
       "      <td>1.000000</td>\n",
       "      <td>50.000000</td>\n",
       "      <td>15.000000</td>\n",
       "    </tr>\n",
       "    <tr>\n",
       "      <th>25%</th>\n",
       "      <td>1.000000</td>\n",
       "      <td>1.000000</td>\n",
       "      <td>1970.000000</td>\n",
       "      <td>6.000000</td>\n",
       "      <td>362.500000</td>\n",
       "      <td>45.000000</td>\n",
       "    </tr>\n",
       "    <tr>\n",
       "      <th>50%</th>\n",
       "      <td>2.000000</td>\n",
       "      <td>1.000000</td>\n",
       "      <td>1979.000000</td>\n",
       "      <td>7.000000</td>\n",
       "      <td>450.000000</td>\n",
       "      <td>65.000000</td>\n",
       "    </tr>\n",
       "    <tr>\n",
       "      <th>75%</th>\n",
       "      <td>2.000000</td>\n",
       "      <td>1.000000</td>\n",
       "      <td>1994.000000</td>\n",
       "      <td>9.000000</td>\n",
       "      <td>597.500000</td>\n",
       "      <td>90.000000</td>\n",
       "    </tr>\n",
       "    <tr>\n",
       "      <th>max</th>\n",
       "      <td>7.000000</td>\n",
       "      <td>4.000000</td>\n",
       "      <td>2022.000000</td>\n",
       "      <td>32.000000</td>\n",
       "      <td>12000.000000</td>\n",
       "      <td>900.000000</td>\n",
       "    </tr>\n",
       "  </tbody>\n",
       "</table>\n",
       "</div>"
      ],
      "text/plain": [
       "          Bedrooms    Bathrooms         Year  Price/m2(€/m^2)      Price(€)  \\\n",
       "count  1778.000000  1778.000000  1778.000000      1778.000000   1778.000000   \n",
       "mean      1.747469     1.076490  1982.593363         7.981440    549.920135   \n",
       "std       0.829810     0.326642    15.915629         3.127239    460.268389   \n",
       "min       1.000000     1.000000  1900.000000         1.000000     50.000000   \n",
       "25%       1.000000     1.000000  1970.000000         6.000000    362.500000   \n",
       "50%       2.000000     1.000000  1979.000000         7.000000    450.000000   \n",
       "75%       2.000000     1.000000  1994.000000         9.000000    597.500000   \n",
       "max       7.000000     4.000000  2022.000000        32.000000  12000.000000   \n",
       "\n",
       "       Surface m^2  \n",
       "count  1778.000000  \n",
       "mean     75.116423  \n",
       "std      54.094869  \n",
       "min      15.000000  \n",
       "25%      45.000000  \n",
       "50%      65.000000  \n",
       "75%      90.000000  \n",
       "max     900.000000  "
      ]
     },
     "execution_count": 34,
     "metadata": {},
     "output_type": "execute_result"
    }
   ],
   "source": [
    "cleaned1.describe()"
   ]
  },
  {
   "cell_type": "code",
   "execution_count": 35,
   "id": "7e9c01c0-39bd-4aec-bddf-03008f84fd4d",
   "metadata": {},
   "outputs": [
    {
     "data": {
      "image/png": "[encoded data removed]",
      "text/plain": [
       "<Figure size 720x504 with 1 Axes>"
      ]
     },
     "metadata": {
      "needs_background": "light"
     },
     "output_type": "display_data"
    }
   ],
   "source": [
    "fig=plt.figure(figsize=(10,7))\n",
    "plt.boxplot(cleaned1['Price(€)'])\n",
    "plt.show()"
   ]
  },
  {
   "cell_type": "code",
   "execution_count": 36,
   "id": "bfd05ec1-d9ec-45b0-8363-e0fdc464539a",
   "metadata": {},
   "outputs": [
    {
     "name": "stderr",
     "output_type": "stream",
     "text": [
      "C:\\Users\\user\\AppData\\Local\\Temp\\ipykernel_11440\\1634593847.py:1: SettingWithCopyWarning: \n",
      "A value is trying to be set on a copy of a slice from a DataFrame\n",
      "\n",
      "See the caveats in the documentation: https://pandas.pydata.org/pandas-docs/stable/user_guide/indexing.html#returning-a-view-versus-a-copy\n",
      "  cleaned1.drop(index=(cleaned1.index[cleaned1['Price(€)']>=12000]), inplace=True)\n"
     ]
    },
    {
     "data": {
      "text/html": [
       "<div>\n",
       "<style scoped>\n",
       "    .dataframe tbody tr th:only-of-type {\n",
       "        vertical-align: middle;\n",
       "    }\n",
       "\n",
       "    .dataframe tbody tr th {\n",
       "        vertical-align: top;\n",
       "    }\n",
       "\n",
       "    .dataframe thead th {\n",
       "        text-align: right;\n",
       "    }\n",
       "</style>\n",
       "<table border=\"1\" class=\"dataframe\">\n",
       "  <thead>\n",
       "    <tr style=\"text-align: right;\">\n",
       "      <th></th>\n",
       "      <th>Bedrooms</th>\n",
       "      <th>Bathrooms</th>\n",
       "      <th>Year</th>\n",
       "      <th>Price/m2(€/m^2)</th>\n",
       "      <th>Price(€)</th>\n",
       "      <th>Surface m^2</th>\n",
       "    </tr>\n",
       "  </thead>\n",
       "  <tbody>\n",
       "    <tr>\n",
       "      <th>count</th>\n",
       "      <td>1777.000000</td>\n",
       "      <td>1777.000000</td>\n",
       "      <td>1777.000000</td>\n",
       "      <td>1777.000000</td>\n",
       "      <td>1777.000000</td>\n",
       "      <td>1777.000000</td>\n",
       "    </tr>\n",
       "    <tr>\n",
       "      <th>mean</th>\n",
       "      <td>1.746201</td>\n",
       "      <td>1.074845</td>\n",
       "      <td>1982.571187</td>\n",
       "      <td>7.978616</td>\n",
       "      <td>543.476646</td>\n",
       "      <td>74.652223</td>\n",
       "    </tr>\n",
       "    <tr>\n",
       "      <th>std</th>\n",
       "      <td>0.828319</td>\n",
       "      <td>0.319281</td>\n",
       "      <td>15.892609</td>\n",
       "      <td>3.125850</td>\n",
       "      <td>371.624442</td>\n",
       "      <td>50.443635</td>\n",
       "    </tr>\n",
       "    <tr>\n",
       "      <th>min</th>\n",
       "      <td>1.000000</td>\n",
       "      <td>1.000000</td>\n",
       "      <td>1900.000000</td>\n",
       "      <td>1.000000</td>\n",
       "      <td>50.000000</td>\n",
       "      <td>15.000000</td>\n",
       "    </tr>\n",
       "    <tr>\n",
       "      <th>25%</th>\n",
       "      <td>1.000000</td>\n",
       "      <td>1.000000</td>\n",
       "      <td>1970.000000</td>\n",
       "      <td>6.000000</td>\n",
       "      <td>360.000000</td>\n",
       "      <td>45.000000</td>\n",
       "    </tr>\n",
       "    <tr>\n",
       "      <th>50%</th>\n",
       "      <td>2.000000</td>\n",
       "      <td>1.000000</td>\n",
       "      <td>1979.000000</td>\n",
       "      <td>7.000000</td>\n",
       "      <td>450.000000</td>\n",
       "      <td>65.000000</td>\n",
       "    </tr>\n",
       "    <tr>\n",
       "      <th>75%</th>\n",
       "      <td>2.000000</td>\n",
       "      <td>1.000000</td>\n",
       "      <td>1994.000000</td>\n",
       "      <td>9.000000</td>\n",
       "      <td>590.000000</td>\n",
       "      <td>90.000000</td>\n",
       "    </tr>\n",
       "    <tr>\n",
       "      <th>max</th>\n",
       "      <td>7.000000</td>\n",
       "      <td>4.000000</td>\n",
       "      <td>2022.000000</td>\n",
       "      <td>32.000000</td>\n",
       "      <td>6000.000000</td>\n",
       "      <td>650.000000</td>\n",
       "    </tr>\n",
       "  </tbody>\n",
       "</table>\n",
       "</div>"
      ],
      "text/plain": [
       "          Bedrooms    Bathrooms         Year  Price/m2(€/m^2)     Price(€)  \\\n",
       "count  1777.000000  1777.000000  1777.000000      1777.000000  1777.000000   \n",
       "mean      1.746201     1.074845  1982.571187         7.978616   543.476646   \n",
       "std       0.828319     0.319281    15.892609         3.125850   371.624442   \n",
       "min       1.000000     1.000000  1900.000000         1.000000    50.000000   \n",
       "25%       1.000000     1.000000  1970.000000         6.000000   360.000000   \n",
       "50%       2.000000     1.000000  1979.000000         7.000000   450.000000   \n",
       "75%       2.000000     1.000000  1994.000000         9.000000   590.000000   \n",
       "max       7.000000     4.000000  2022.000000        32.000000  6000.000000   \n",
       "\n",
       "       Surface m^2  \n",
       "count  1777.000000  \n",
       "mean     74.652223  \n",
       "std      50.443635  \n",
       "min      15.000000  \n",
       "25%      45.000000  \n",
       "50%      65.000000  \n",
       "75%      90.000000  \n",
       "max     650.000000  "
      ]
     },
     "execution_count": 36,
     "metadata": {},
     "output_type": "execute_result"
    }
   ],
   "source": [
    "cleaned1.drop(index=(cleaned1.index[cleaned1['Price(€)']>=12000]), inplace=True)\n",
    "cleaned1.describe()"
   ]
  },
  {
   "cell_type": "code",
   "execution_count": 37,
   "id": "5304c14c-ca41-483b-a204-8158df5edcdb",
   "metadata": {},
   "outputs": [
    {
     "data": {
      "image/png": "[encoded data removed]",
      "text/plain": [
       "<Figure size 720x504 with 1 Axes>"
      ]
     },
     "metadata": {
      "needs_background": "light"
     },
     "output_type": "display_data"
    }
   ],
   "source": [
    "fig=plt.figure(figsize=(10,7))\n",
    "plt.boxplot(cleaned1['Price(€)'])\n",
    "plt.show()"
   ]
  },
  {
   "cell_type": "code",
   "execution_count": 38,
   "id": "6b9e0837-20c6-41d1-a7be-c5bcaca9870f",
   "metadata": {},
   "outputs": [
    {
     "data": {
      "image/png": "[encoded data removed]",
      "text/plain": [
       "<Figure size 720x504 with 1 Axes>"
      ]
     },
     "metadata": {
      "needs_background": "light"
     },
     "output_type": "display_data"
    }
   ],
   "source": [
    "fig=plt.figure(figsize=(10,7))\n",
    "plt.boxplot(cleaned1['Price/m2(€/m^2)'])\n",
    "plt.show()"
   ]
  },
  {
   "cell_type": "code",
   "execution_count": 39,
   "id": "b8112fa3-3a35-4e2d-b964-bab36624b3c5",
   "metadata": {},
   "outputs": [
    {
     "data": {
      "text/html": [
       "<div>\n",
       "<style scoped>\n",
       "    .dataframe tbody tr th:only-of-type {\n",
       "        vertical-align: middle;\n",
       "    }\n",
       "\n",
       "    .dataframe tbody tr th {\n",
       "        vertical-align: top;\n",
       "    }\n",
       "\n",
       "    .dataframe thead th {\n",
       "        text-align: right;\n",
       "    }\n",
       "</style>\n",
       "<table border=\"1\" class=\"dataframe\">\n",
       "  <thead>\n",
       "    <tr style=\"text-align: right;\">\n",
       "      <th></th>\n",
       "      <th>Floor</th>\n",
       "      <th>Bedrooms</th>\n",
       "      <th>Bathrooms</th>\n",
       "      <th>Area</th>\n",
       "      <th>Year</th>\n",
       "      <th>Price/m2(€/m^2)</th>\n",
       "      <th>Price(€)</th>\n",
       "      <th>Type</th>\n",
       "      <th>Surface m^2</th>\n",
       "    </tr>\n",
       "  </thead>\n",
       "  <tbody>\n",
       "    <tr>\n",
       "      <th>2042</th>\n",
       "      <td>Ημιώροφος</td>\n",
       "      <td>1</td>\n",
       "      <td>1</td>\n",
       "      <td>Ανω Πόλη</td>\n",
       "      <td>1970</td>\n",
       "      <td>5</td>\n",
       "      <td>390</td>\n",
       "      <td>Διαμέρισμα</td>\n",
       "      <td>75</td>\n",
       "    </tr>\n",
       "    <tr>\n",
       "      <th>2043</th>\n",
       "      <td>3ος</td>\n",
       "      <td>3</td>\n",
       "      <td>1</td>\n",
       "      <td>Ανω Πόλη</td>\n",
       "      <td>1966</td>\n",
       "      <td>8</td>\n",
       "      <td>600</td>\n",
       "      <td>Διαμέρισμα</td>\n",
       "      <td>80</td>\n",
       "    </tr>\n",
       "    <tr>\n",
       "      <th>2044</th>\n",
       "      <td>3ος</td>\n",
       "      <td>1</td>\n",
       "      <td>1</td>\n",
       "      <td>Ανω Πόλη</td>\n",
       "      <td>1980</td>\n",
       "      <td>9</td>\n",
       "      <td>400</td>\n",
       "      <td>Διαμέρισμα</td>\n",
       "      <td>43</td>\n",
       "    </tr>\n",
       "    <tr>\n",
       "      <th>2047</th>\n",
       "      <td>4ος</td>\n",
       "      <td>2</td>\n",
       "      <td>2</td>\n",
       "      <td>Ντεπώ</td>\n",
       "      <td>1981</td>\n",
       "      <td>13</td>\n",
       "      <td>1100</td>\n",
       "      <td>Διαμέρισμα</td>\n",
       "      <td>83</td>\n",
       "    </tr>\n",
       "    <tr>\n",
       "      <th>2048</th>\n",
       "      <td>4ος</td>\n",
       "      <td>1</td>\n",
       "      <td>1</td>\n",
       "      <td>Ανω Πόλη</td>\n",
       "      <td>1975</td>\n",
       "      <td>6</td>\n",
       "      <td>280</td>\n",
       "      <td>Διαμέρισμα</td>\n",
       "      <td>45</td>\n",
       "    </tr>\n",
       "  </tbody>\n",
       "</table>\n",
       "</div>"
      ],
      "text/plain": [
       "                                            Floor  Bedrooms  Bathrooms  \\\n",
       "2042                    Ημιώροφος                         1          1   \n",
       "2043                          3ος                         3          1   \n",
       "2044                          3ος                         1          1   \n",
       "2047                          4ος                         2          2   \n",
       "2048                          4ος                         1          1   \n",
       "\n",
       "          Area  Year  Price/m2(€/m^2)  Price(€)        Type  Surface m^2  \n",
       "2042  Ανω Πόλη  1970                5       390  Διαμέρισμα           75  \n",
       "2043  Ανω Πόλη  1966                8       600  Διαμέρισμα           80  \n",
       "2044  Ανω Πόλη  1980                9       400  Διαμέρισμα           43  \n",
       "2047     Ντεπώ  1981               13      1100  Διαμέρισμα           83  \n",
       "2048  Ανω Πόλη  1975                6       280  Διαμέρισμα           45  "
      ]
     },
     "execution_count": 39,
     "metadata": {},
     "output_type": "execute_result"
    }
   ],
   "source": [
    "cleaned1.tail()"
   ]
  },
  {
   "cell_type": "code",
   "execution_count": 40,
   "id": "e6cf6f2a-725b-4ed4-97e2-6382b6f91d8e",
   "metadata": {},
   "outputs": [
    {
     "data": {
      "text/html": [
       "<div>\n",
       "<style scoped>\n",
       "    .dataframe tbody tr th:only-of-type {\n",
       "        vertical-align: middle;\n",
       "    }\n",
       "\n",
       "    .dataframe tbody tr th {\n",
       "        vertical-align: top;\n",
       "    }\n",
       "\n",
       "    .dataframe thead th {\n",
       "        text-align: right;\n",
       "    }\n",
       "</style>\n",
       "<table border=\"1\" class=\"dataframe\">\n",
       "  <thead>\n",
       "    <tr style=\"text-align: right;\">\n",
       "      <th></th>\n",
       "      <th>Floor</th>\n",
       "      <th>Bedrooms</th>\n",
       "      <th>Bathrooms</th>\n",
       "      <th>Area</th>\n",
       "      <th>Year</th>\n",
       "      <th>Price/m2(€/m^2)</th>\n",
       "      <th>Price(€)</th>\n",
       "      <th>Type</th>\n",
       "      <th>Surface m^2</th>\n",
       "    </tr>\n",
       "  </thead>\n",
       "  <tbody>\n",
       "    <tr>\n",
       "      <th>1772</th>\n",
       "      <td>Ημιώροφος</td>\n",
       "      <td>1</td>\n",
       "      <td>1</td>\n",
       "      <td>Ανω Πόλη</td>\n",
       "      <td>1970</td>\n",
       "      <td>5</td>\n",
       "      <td>390</td>\n",
       "      <td>Διαμέρισμα</td>\n",
       "      <td>75</td>\n",
       "    </tr>\n",
       "    <tr>\n",
       "      <th>1773</th>\n",
       "      <td>3ος</td>\n",
       "      <td>3</td>\n",
       "      <td>1</td>\n",
       "      <td>Ανω Πόλη</td>\n",
       "      <td>1966</td>\n",
       "      <td>8</td>\n",
       "      <td>600</td>\n",
       "      <td>Διαμέρισμα</td>\n",
       "      <td>80</td>\n",
       "    </tr>\n",
       "    <tr>\n",
       "      <th>1774</th>\n",
       "      <td>3ος</td>\n",
       "      <td>1</td>\n",
       "      <td>1</td>\n",
       "      <td>Ανω Πόλη</td>\n",
       "      <td>1980</td>\n",
       "      <td>9</td>\n",
       "      <td>400</td>\n",
       "      <td>Διαμέρισμα</td>\n",
       "      <td>43</td>\n",
       "    </tr>\n",
       "    <tr>\n",
       "      <th>1775</th>\n",
       "      <td>4ος</td>\n",
       "      <td>2</td>\n",
       "      <td>2</td>\n",
       "      <td>Ντεπώ</td>\n",
       "      <td>1981</td>\n",
       "      <td>13</td>\n",
       "      <td>1100</td>\n",
       "      <td>Διαμέρισμα</td>\n",
       "      <td>83</td>\n",
       "    </tr>\n",
       "    <tr>\n",
       "      <th>1776</th>\n",
       "      <td>4ος</td>\n",
       "      <td>1</td>\n",
       "      <td>1</td>\n",
       "      <td>Ανω Πόλη</td>\n",
       "      <td>1975</td>\n",
       "      <td>6</td>\n",
       "      <td>280</td>\n",
       "      <td>Διαμέρισμα</td>\n",
       "      <td>45</td>\n",
       "    </tr>\n",
       "  </tbody>\n",
       "</table>\n",
       "</div>"
      ],
      "text/plain": [
       "                                            Floor  Bedrooms  Bathrooms  \\\n",
       "1772                    Ημιώροφος                         1          1   \n",
       "1773                          3ος                         3          1   \n",
       "1774                          3ος                         1          1   \n",
       "1775                          4ος                         2          2   \n",
       "1776                          4ος                         1          1   \n",
       "\n",
       "          Area  Year  Price/m2(€/m^2)  Price(€)        Type  Surface m^2  \n",
       "1772  Ανω Πόλη  1970                5       390  Διαμέρισμα           75  \n",
       "1773  Ανω Πόλη  1966                8       600  Διαμέρισμα           80  \n",
       "1774  Ανω Πόλη  1980                9       400  Διαμέρισμα           43  \n",
       "1775     Ντεπώ  1981               13      1100  Διαμέρισμα           83  \n",
       "1776  Ανω Πόλη  1975                6       280  Διαμέρισμα           45  "
      ]
     },
     "execution_count": 40,
     "metadata": {},
     "output_type": "execute_result"
    }
   ],
   "source": [
    "cleaned1.reset_index(drop=True, inplace=True)\n",
    "cleaned1.tail()"
   ]
  },
  {
   "cell_type": "markdown",
   "id": "528e3392-c635-4425-9f42-fad09023b8ac",
   "metadata": {},
   "source": [
    "**Now that we cleaned our data from most of the outliers we again make a copy of our dataframe called  df**"
   ]
  },
  {
   "cell_type": "code",
   "execution_count": 41,
   "id": "fb2722aa-22e2-43b6-ad33-eb897cb49fef",
   "metadata": {},
   "outputs": [],
   "source": [
    "df=cleaned1.copy()"
   ]
  },
  {
   "cell_type": "code",
   "execution_count": 42,
   "id": "d9339353-01ba-463e-ac48-f35b093e0eca",
   "metadata": {},
   "outputs": [
    {
     "data": {
      "text/html": [
       "<div>\n",
       "<style scoped>\n",
       "    .dataframe tbody tr th:only-of-type {\n",
       "        vertical-align: middle;\n",
       "    }\n",
       "\n",
       "    .dataframe tbody tr th {\n",
       "        vertical-align: top;\n",
       "    }\n",
       "\n",
       "    .dataframe thead th {\n",
       "        text-align: right;\n",
       "    }\n",
       "</style>\n",
       "<table border=\"1\" class=\"dataframe\">\n",
       "  <thead>\n",
       "    <tr style=\"text-align: right;\">\n",
       "      <th></th>\n",
       "      <th>Floor</th>\n",
       "      <th>Bedrooms</th>\n",
       "      <th>Bathrooms</th>\n",
       "      <th>Area</th>\n",
       "      <th>Year</th>\n",
       "      <th>Price/m2(€/m^2)</th>\n",
       "      <th>Price(€)</th>\n",
       "      <th>Type</th>\n",
       "      <th>Surface m^2</th>\n",
       "    </tr>\n",
       "  </thead>\n",
       "  <tbody>\n",
       "    <tr>\n",
       "      <th>0</th>\n",
       "      <td>Ισόγειο</td>\n",
       "      <td>1</td>\n",
       "      <td>1</td>\n",
       "      <td>Πολίχνη</td>\n",
       "      <td>2010</td>\n",
       "      <td>6</td>\n",
       "      <td>250</td>\n",
       "      <td>Διαμέρισμα</td>\n",
       "      <td>40</td>\n",
       "    </tr>\n",
       "    <tr>\n",
       "      <th>1</th>\n",
       "      <td>Ισόγειο</td>\n",
       "      <td>3</td>\n",
       "      <td>1</td>\n",
       "      <td>Other Area</td>\n",
       "      <td>1990</td>\n",
       "      <td>6</td>\n",
       "      <td>450</td>\n",
       "      <td>Μονοκατοικία</td>\n",
       "      <td>75</td>\n",
       "    </tr>\n",
       "    <tr>\n",
       "      <th>2</th>\n",
       "      <td>Ημιώροφος</td>\n",
       "      <td>1</td>\n",
       "      <td>1</td>\n",
       "      <td>Πολίχνη</td>\n",
       "      <td>1990</td>\n",
       "      <td>6</td>\n",
       "      <td>400</td>\n",
       "      <td>Διαμέρισμα</td>\n",
       "      <td>67</td>\n",
       "    </tr>\n",
       "    <tr>\n",
       "      <th>3</th>\n",
       "      <td>1ος</td>\n",
       "      <td>1</td>\n",
       "      <td>1</td>\n",
       "      <td>Πολίχνη</td>\n",
       "      <td>1989</td>\n",
       "      <td>7</td>\n",
       "      <td>230</td>\n",
       "      <td>Διαμέρισμα</td>\n",
       "      <td>32</td>\n",
       "    </tr>\n",
       "    <tr>\n",
       "      <th>4</th>\n",
       "      <td>Ημιυπόγειο</td>\n",
       "      <td>1</td>\n",
       "      <td>1</td>\n",
       "      <td>Πολίχνη</td>\n",
       "      <td>2005</td>\n",
       "      <td>4</td>\n",
       "      <td>120</td>\n",
       "      <td>Διαμέρισμα</td>\n",
       "      <td>30</td>\n",
       "    </tr>\n",
       "  </tbody>\n",
       "</table>\n",
       "</div>"
      ],
      "text/plain": [
       "                                          Floor  Bedrooms  Bathrooms  \\\n",
       "0                       Ισόγειο                         1          1   \n",
       "1                       Ισόγειο                         3          1   \n",
       "2                     Ημιώροφος                         1          1   \n",
       "3                           1ος                         1          1   \n",
       "4                    Ημιυπόγειο                         1          1   \n",
       "\n",
       "         Area  Year  Price/m2(€/m^2)  Price(€)          Type  Surface m^2  \n",
       "0     Πολίχνη  2010                6       250    Διαμέρισμα           40  \n",
       "1  Other Area  1990                6       450  Μονοκατοικία           75  \n",
       "2     Πολίχνη  1990                6       400    Διαμέρισμα           67  \n",
       "3     Πολίχνη  1989                7       230    Διαμέρισμα           32  \n",
       "4     Πολίχνη  2005                4       120    Διαμέρισμα           30  "
      ]
     },
     "execution_count": 42,
     "metadata": {},
     "output_type": "execute_result"
    }
   ],
   "source": [
    "df.head()"
   ]
  },
  {
   "cell_type": "markdown",
   "id": "e6435d82-4811-40f9-a0ce-82aa9b0f61ec",
   "metadata": {
    "tags": []
   },
   "source": [
    "### Linear Relationship"
   ]
  },
  {
   "cell_type": "markdown",
   "id": "58f536f7-0662-4799-8d80-a15195f03b00",
   "metadata": {},
   "source": [
    "**Here we will examine the linear relationship between our Dependent Variable \"Price\" and the rest of the independent numerical variables using Regression plot**"
   ]
  },
  {
   "cell_type": "code",
   "execution_count": 43,
   "id": "8314fbb7-efda-44e5-87b7-b68103459d6a",
   "metadata": {},
   "outputs": [
    {
     "data": {
      "text/plain": [
       "(0.0, 6297.5)"
      ]
     },
     "execution_count": 43,
     "metadata": {},
     "output_type": "execute_result"
    },
    {
     "data": {
      "image/png": "[encoded data removed]",
      "text/plain": [
       "<Figure size 432x288 with 1 Axes>"
      ]
     },
     "metadata": {
      "needs_background": "light"
     },
     "output_type": "display_data"
    }
   ],
   "source": [
    "sns.regplot(x=\"Surface m^2\", y=\"Price(€)\", data=df)\n",
    "plt.ylim(0,)"
   ]
  },
  {
   "cell_type": "code",
   "execution_count": 44,
   "id": "d9546fbb-6c16-4c6d-885a-22ebab0058df",
   "metadata": {},
   "outputs": [
    {
     "data": {
      "text/plain": [
       "(0.0, 6297.5)"
      ]
     },
     "execution_count": 44,
     "metadata": {},
     "output_type": "execute_result"
    },
    {
     "data": {
      "image/png": "[encoded data removed]",
      "text/plain": [
       "<Figure size 432x288 with 1 Axes>"
      ]
     },
     "metadata": {
      "needs_background": "light"
     },
     "output_type": "display_data"
    }
   ],
   "source": [
    "sns.regplot(x=\"Year\", y=\"Price(€)\", data=df)\n",
    "plt.ylim(0,)"
   ]
  },
  {
   "cell_type": "code",
   "execution_count": 45,
   "id": "25a35b44-f044-458f-9b36-83245f206662",
   "metadata": {},
   "outputs": [
    {
     "data": {
      "text/plain": [
       "(0.0, 6297.5)"
      ]
     },
     "execution_count": 45,
     "metadata": {},
     "output_type": "execute_result"
    },
    {
     "data": {
      "image/png": "[encoded data removed]",
      "text/plain": [
       "<Figure size 432x288 with 1 Axes>"
      ]
     },
     "metadata": {
      "needs_background": "light"
     },
     "output_type": "display_data"
    }
   ],
   "source": [
    "sns.regplot(x=\"Bedrooms\", y=\"Price(€)\", data=df)\n",
    "plt.ylim(0,)"
   ]
  },
  {
   "cell_type": "code",
   "execution_count": 46,
   "id": "144c6a7b-8c3f-4b31-88fe-c5641664d821",
   "metadata": {},
   "outputs": [
    {
     "data": {
      "text/plain": [
       "(0.0, 6297.5)"
      ]
     },
     "execution_count": 46,
     "metadata": {},
     "output_type": "execute_result"
    },
    {
     "data": {
      "image/png": "[encoded data removed]",
      "text/plain": [
       "<Figure size 432x288 with 1 Axes>"
      ]
     },
     "metadata": {
      "needs_background": "light"
     },
     "output_type": "display_data"
    }
   ],
   "source": [
    "sns.regplot(x=\"Bathrooms\", y=\"Price(€)\", data=df)\n",
    "plt.ylim(0,)"
   ]
  },
  {
   "cell_type": "markdown",
   "id": "4a412c7a-8584-4f73-acec-0d5b628012d5",
   "metadata": {},
   "source": [
    "**All of our variabled have Postive linear Relationship**"
   ]
  },
  {
   "cell_type": "markdown",
   "id": "23af7a12-b05b-4467-a2b2-7a89df03b6a8",
   "metadata": {},
   "source": [
    "**We can also use Residual Plot to examine if a Linear Model is appropriate according to our data**"
   ]
  },
  {
   "cell_type": "code",
   "execution_count": 47,
   "id": "a3836b5c-3e58-4ace-98f9-69f8226a03df",
   "metadata": {},
   "outputs": [
    {
     "data": {
      "text/plain": [
       "<AxesSubplot:xlabel='Surface m^2', ylabel='Price(€)'>"
      ]
     },
     "execution_count": 47,
     "metadata": {},
     "output_type": "execute_result"
    },
    {
     "data": {
      "image/png": "[encoded data removed]",
      "text/plain": [
       "<Figure size 432x288 with 1 Axes>"
      ]
     },
     "metadata": {
      "needs_background": "light"
     },
     "output_type": "display_data"
    }
   ],
   "source": [
    "sns.residplot( x=\"Surface m^2\",y=\"Price(€)\", data=df)"
   ]
  },
  {
   "cell_type": "code",
   "execution_count": 48,
   "id": "6764d133-2cd9-4571-b35a-aea7edececa2",
   "metadata": {},
   "outputs": [
    {
     "data": {
      "text/plain": [
       "<AxesSubplot:xlabel='Year', ylabel='Price(€)'>"
      ]
     },
     "execution_count": 48,
     "metadata": {},
     "output_type": "execute_result"
    },
    {
     "data": {
      "image/png": "[encoded data removed]",
      "text/plain": [
       "<Figure size 432x288 with 1 Axes>"
      ]
     },
     "metadata": {
      "needs_background": "light"
     },
     "output_type": "display_data"
    }
   ],
   "source": [
    "sns.residplot( x=\"Year\", y=\"Price(€)\",  data=df)"
   ]
  },
  {
   "cell_type": "code",
   "execution_count": 49,
   "id": "6c52a056-39b5-4174-875e-ff69fef65911",
   "metadata": {},
   "outputs": [
    {
     "data": {
      "text/plain": [
       "<AxesSubplot:xlabel='Bedrooms', ylabel='Price(€)'>"
      ]
     },
     "execution_count": 49,
     "metadata": {},
     "output_type": "execute_result"
    },
    {
     "data": {
      "image/png": "[encoded data removed]",
      "text/plain": [
       "<Figure size 432x288 with 1 Axes>"
      ]
     },
     "metadata": {
      "needs_background": "light"
     },
     "output_type": "display_data"
    }
   ],
   "source": [
    "sns.residplot(x=\"Bedrooms\",y=\"Price(€)\",data=df)"
   ]
  },
  {
   "cell_type": "code",
   "execution_count": 50,
   "id": "a1ea595e-1522-4aad-9d83-a911c06c38b0",
   "metadata": {},
   "outputs": [
    {
     "data": {
      "text/plain": [
       "<AxesSubplot:xlabel='Bathrooms', ylabel='Price(€)'>"
      ]
     },
     "execution_count": 50,
     "metadata": {},
     "output_type": "execute_result"
    },
    {
     "data": {
      "image/png": "[encoded data removed]",
      "text/plain": [
       "<Figure size 432x288 with 1 Axes>"
      ]
     },
     "metadata": {
      "needs_background": "light"
     },
     "output_type": "display_data"
    }
   ],
   "source": [
    "sns.residplot(x=\"Bathrooms\",y=\"Price(€)\",data=df)"
   ]
  },
  {
   "cell_type": "markdown",
   "id": "df4891cc-bbc5-48e9-9e0d-88c9b4bc15c4",
   "metadata": {},
   "source": [
    "**The conclusions are not very definitive since in most of our plots there is some symmetry but not a solid one. Although, it seems that a Linear Model might be appropriate.**"
   ]
  },
  {
   "cell_type": "markdown",
   "id": "ada8cbaa-48a1-4de6-9d01-7be88559d8ba",
   "metadata": {},
   "source": [
    "**Now lets examine the correlation between our target variable and the rest**"
   ]
  },
  {
   "cell_type": "code",
   "execution_count": 51,
   "id": "0b7ee81f-92f9-46f1-ab86-925a68c05df8",
   "metadata": {},
   "outputs": [
    {
     "data": {
      "text/plain": [
       "Year               0.049145\n",
       "Price/m2(€/m^2)    0.233794\n",
       "Bedrooms           0.582091\n",
       "Bathrooms          0.605844\n",
       "Surface m^2        0.756564\n",
       "Price(€)           1.000000\n",
       "Name: Price(€), dtype: float64"
      ]
     },
     "execution_count": 51,
     "metadata": {},
     "output_type": "execute_result"
    }
   ],
   "source": [
    "df.corr()['Price(€)'].sort_values()"
   ]
  },
  {
   "cell_type": "markdown",
   "id": "0363abb2-2f65-4642-9ece-51f89a0c4127",
   "metadata": {},
   "source": [
    "**The variables Bedrooms,Bathrooms and Surface have a very strong correlation with out target variable Price**"
   ]
  },
  {
   "cell_type": "markdown",
   "id": "2e02f99c-ce5b-48d5-a897-2beeaf42410a",
   "metadata": {
    "tags": []
   },
   "source": [
    "### FEATURE ENGINEERING"
   ]
  },
  {
   "cell_type": "markdown",
   "id": "07609d0b-3037-45a7-b6c0-3e227074c522",
   "metadata": {},
   "source": [
    "**Since the correlation betweent Price and Year isn't that strong, we our gonna turn the year into 5 bins**"
   ]
  },
  {
   "cell_type": "code",
   "execution_count": 52,
   "id": "ebb76a84-bb47-4029-986e-7dd7c8501545",
   "metadata": {},
   "outputs": [
    {
     "data": {
      "text/html": [
       "<div>\n",
       "<style scoped>\n",
       "    .dataframe tbody tr th:only-of-type {\n",
       "        vertical-align: middle;\n",
       "    }\n",
       "\n",
       "    .dataframe tbody tr th {\n",
       "        vertical-align: top;\n",
       "    }\n",
       "\n",
       "    .dataframe thead th {\n",
       "        text-align: right;\n",
       "    }\n",
       "</style>\n",
       "<table border=\"1\" class=\"dataframe\">\n",
       "  <thead>\n",
       "    <tr style=\"text-align: right;\">\n",
       "      <th></th>\n",
       "      <th>Floor</th>\n",
       "      <th>Bedrooms</th>\n",
       "      <th>Bathrooms</th>\n",
       "      <th>Area</th>\n",
       "      <th>Year</th>\n",
       "      <th>Price/m2(€/m^2)</th>\n",
       "      <th>Price(€)</th>\n",
       "      <th>Type</th>\n",
       "      <th>Surface m^2</th>\n",
       "      <th>Year-binned</th>\n",
       "    </tr>\n",
       "  </thead>\n",
       "  <tbody>\n",
       "    <tr>\n",
       "      <th>0</th>\n",
       "      <td>Ισόγειο</td>\n",
       "      <td>1</td>\n",
       "      <td>1</td>\n",
       "      <td>Πολίχνη</td>\n",
       "      <td>2010</td>\n",
       "      <td>6</td>\n",
       "      <td>250</td>\n",
       "      <td>Διαμέρισμα</td>\n",
       "      <td>40</td>\n",
       "      <td>New</td>\n",
       "    </tr>\n",
       "    <tr>\n",
       "      <th>1</th>\n",
       "      <td>Ισόγειο</td>\n",
       "      <td>3</td>\n",
       "      <td>1</td>\n",
       "      <td>Other Area</td>\n",
       "      <td>1990</td>\n",
       "      <td>6</td>\n",
       "      <td>450</td>\n",
       "      <td>Μονοκατοικία</td>\n",
       "      <td>75</td>\n",
       "      <td>Relatively New</td>\n",
       "    </tr>\n",
       "    <tr>\n",
       "      <th>2</th>\n",
       "      <td>Ημιώροφος</td>\n",
       "      <td>1</td>\n",
       "      <td>1</td>\n",
       "      <td>Πολίχνη</td>\n",
       "      <td>1990</td>\n",
       "      <td>6</td>\n",
       "      <td>400</td>\n",
       "      <td>Διαμέρισμα</td>\n",
       "      <td>67</td>\n",
       "      <td>Relatively New</td>\n",
       "    </tr>\n",
       "    <tr>\n",
       "      <th>3</th>\n",
       "      <td>1ος</td>\n",
       "      <td>1</td>\n",
       "      <td>1</td>\n",
       "      <td>Πολίχνη</td>\n",
       "      <td>1989</td>\n",
       "      <td>7</td>\n",
       "      <td>230</td>\n",
       "      <td>Διαμέρισμα</td>\n",
       "      <td>32</td>\n",
       "      <td>Relatively New</td>\n",
       "    </tr>\n",
       "    <tr>\n",
       "      <th>4</th>\n",
       "      <td>Ημιυπόγειο</td>\n",
       "      <td>1</td>\n",
       "      <td>1</td>\n",
       "      <td>Πολίχνη</td>\n",
       "      <td>2005</td>\n",
       "      <td>4</td>\n",
       "      <td>120</td>\n",
       "      <td>Διαμέρισμα</td>\n",
       "      <td>30</td>\n",
       "      <td>New</td>\n",
       "    </tr>\n",
       "  </tbody>\n",
       "</table>\n",
       "</div>"
      ],
      "text/plain": [
       "                                          Floor  Bedrooms  Bathrooms  \\\n",
       "0                       Ισόγειο                         1          1   \n",
       "1                       Ισόγειο                         3          1   \n",
       "2                     Ημιώροφος                         1          1   \n",
       "3                           1ος                         1          1   \n",
       "4                    Ημιυπόγειο                         1          1   \n",
       "\n",
       "         Area  Year  Price/m2(€/m^2)  Price(€)          Type  Surface m^2  \\\n",
       "0     Πολίχνη  2010                6       250    Διαμέρισμα           40   \n",
       "1  Other Area  1990                6       450  Μονοκατοικία           75   \n",
       "2     Πολίχνη  1990                6       400    Διαμέρισμα           67   \n",
       "3     Πολίχνη  1989                7       230    Διαμέρισμα           32   \n",
       "4     Πολίχνη  2005                4       120    Διαμέρισμα           30   \n",
       "\n",
       "      Year-binned  \n",
       "0             New  \n",
       "1  Relatively New  \n",
       "2  Relatively New  \n",
       "3  Relatively New  \n",
       "4             New  "
      ]
     },
     "execution_count": 52,
     "metadata": {},
     "output_type": "execute_result"
    }
   ],
   "source": [
    "bins= np.linspace(min(df[\"Year\"]), max(df[\"Year\"]),6)\n",
    "\n",
    "group_names=[\"Too Old\",'Very Old', 'Old', 'Relatively New', \"New\"]\n",
    "\n",
    "df['Year-binned']= pd.cut(df['Year'], bins, labels=group_names, include_lowest=True )\n",
    "df.head(5)"
   ]
  },
  {
   "cell_type": "code",
   "execution_count": 53,
   "id": "34baf1e5-d255-4ceb-b1a9-084fd6a8c804",
   "metadata": {},
   "outputs": [
    {
     "data": {
      "text/plain": [
       "Text(0, 0.5, 'Count')"
      ]
     },
     "execution_count": 53,
     "metadata": {},
     "output_type": "execute_result"
    },
    {
     "data": {
      "image/png": "[encoded data removed]",
      "text/plain": [
       "<Figure size 720x360 with 1 Axes>"
      ]
     },
     "metadata": {
      "needs_background": "light"
     },
     "output_type": "display_data"
    }
   ],
   "source": [
    "fig = plt.figure(figsize = (10, 5))\n",
    "plt.bar(group_names,df[\"Year-binned\"].value_counts(sort=False))\n",
    "plt.xlabel(\"Year-Bins\")\n",
    "plt.ylabel(\"Count\")"
   ]
  },
  {
   "cell_type": "code",
   "execution_count": 54,
   "id": "c9a88e77-26bd-436e-8caf-d106aed46ad2",
   "metadata": {},
   "outputs": [
    {
     "data": {
      "text/plain": [
       "Text(0.5, 1.0, 'Year bins')"
      ]
     },
     "execution_count": 54,
     "metadata": {},
     "output_type": "execute_result"
    },
    {
     "data": {
      "image/png": "[encoded data removed]",
      "text/plain": [
       "<Figure size 720x360 with 1 Axes>"
      ]
     },
     "metadata": {
      "needs_background": "light"
     },
     "output_type": "display_data"
    }
   ],
   "source": [
    "fig=plt.figure(figsize=(10,5))\n",
    "plt.hist(df[\"Year\"], len(group_names))\n",
    "plt.xlabel(\"Year\")\n",
    "plt.ylabel(\"count\")\n",
    "plt.title(\"Year bins\")"
   ]
  },
  {
   "cell_type": "code",
   "execution_count": 55,
   "id": "e7d294e4-1393-474a-b867-b66fc771147b",
   "metadata": {},
   "outputs": [
    {
     "data": {
      "text/html": [
       "<div>\n",
       "<style scoped>\n",
       "    .dataframe tbody tr th:only-of-type {\n",
       "        vertical-align: middle;\n",
       "    }\n",
       "\n",
       "    .dataframe tbody tr th {\n",
       "        vertical-align: top;\n",
       "    }\n",
       "\n",
       "    .dataframe thead th {\n",
       "        text-align: right;\n",
       "    }\n",
       "</style>\n",
       "<table border=\"1\" class=\"dataframe\">\n",
       "  <thead>\n",
       "    <tr style=\"text-align: right;\">\n",
       "      <th></th>\n",
       "      <th>Year-binned</th>\n",
       "      <th>Price/m2(€/m^2)</th>\n",
       "    </tr>\n",
       "  </thead>\n",
       "  <tbody>\n",
       "    <tr>\n",
       "      <th>0</th>\n",
       "      <td>Too Old</td>\n",
       "      <td>7.666667</td>\n",
       "    </tr>\n",
       "    <tr>\n",
       "      <th>1</th>\n",
       "      <td>Very Old</td>\n",
       "      <td>10.000000</td>\n",
       "    </tr>\n",
       "    <tr>\n",
       "      <th>2</th>\n",
       "      <td>Old</td>\n",
       "      <td>8.293040</td>\n",
       "    </tr>\n",
       "    <tr>\n",
       "      <th>3</th>\n",
       "      <td>Relatively New</td>\n",
       "      <td>7.514007</td>\n",
       "    </tr>\n",
       "    <tr>\n",
       "      <th>4</th>\n",
       "      <td>New</td>\n",
       "      <td>8.454545</td>\n",
       "    </tr>\n",
       "  </tbody>\n",
       "</table>\n",
       "</div>"
      ],
      "text/plain": [
       "      Year-binned  Price/m2(€/m^2)\n",
       "0         Too Old         7.666667\n",
       "1        Very Old        10.000000\n",
       "2             Old         8.293040\n",
       "3  Relatively New         7.514007\n",
       "4             New         8.454545"
      ]
     },
     "execution_count": 55,
     "metadata": {},
     "output_type": "execute_result"
    }
   ],
   "source": [
    "table = pd.pivot_table(df, values=\"Price/m2(€/m^2)\", index=['Year-binned'],\n",
    "                     aggfunc= np.mean)\n",
    "table.reset_index()"
   ]
  },
  {
   "cell_type": "code",
   "execution_count": 56,
   "id": "97da5008-fcee-41ad-aed5-d9cc45460bde",
   "metadata": {},
   "outputs": [
    {
     "data": {
      "image/png": "[encoded data removed]",
      "text/plain": [
       "<Figure size 1152x720 with 1 Axes>"
      ]
     },
     "metadata": {
      "needs_background": "light"
     },
     "output_type": "display_data"
    }
   ],
   "source": [
    "plt.figure(figsize=(16, 10))\n",
    "sns.boxplot(x=\"Year-binned\", y=\"Price/m2(€/m^2)\", data=df);"
   ]
  },
  {
   "cell_type": "code",
   "execution_count": 57,
   "id": "7848d473-732f-45ed-bc52-34de05565d1f",
   "metadata": {},
   "outputs": [
    {
     "data": {
      "text/html": [
       "<div>\n",
       "<style scoped>\n",
       "    .dataframe tbody tr th:only-of-type {\n",
       "        vertical-align: middle;\n",
       "    }\n",
       "\n",
       "    .dataframe tbody tr th {\n",
       "        vertical-align: top;\n",
       "    }\n",
       "\n",
       "    .dataframe thead th {\n",
       "        text-align: right;\n",
       "    }\n",
       "</style>\n",
       "<table border=\"1\" class=\"dataframe\">\n",
       "  <thead>\n",
       "    <tr style=\"text-align: right;\">\n",
       "      <th></th>\n",
       "      <th>Floor</th>\n",
       "      <th>Bedrooms</th>\n",
       "      <th>Bathrooms</th>\n",
       "      <th>Area</th>\n",
       "      <th>Price/m2(€/m^2)</th>\n",
       "      <th>Price(€)</th>\n",
       "      <th>Type</th>\n",
       "      <th>Surface m^2</th>\n",
       "      <th>Year-binned</th>\n",
       "    </tr>\n",
       "  </thead>\n",
       "  <tbody>\n",
       "    <tr>\n",
       "      <th>0</th>\n",
       "      <td>Ισόγειο</td>\n",
       "      <td>1</td>\n",
       "      <td>1</td>\n",
       "      <td>Πολίχνη</td>\n",
       "      <td>6</td>\n",
       "      <td>250</td>\n",
       "      <td>Διαμέρισμα</td>\n",
       "      <td>40</td>\n",
       "      <td>New</td>\n",
       "    </tr>\n",
       "    <tr>\n",
       "      <th>1</th>\n",
       "      <td>Ισόγειο</td>\n",
       "      <td>3</td>\n",
       "      <td>1</td>\n",
       "      <td>Other Area</td>\n",
       "      <td>6</td>\n",
       "      <td>450</td>\n",
       "      <td>Μονοκατοικία</td>\n",
       "      <td>75</td>\n",
       "      <td>Relatively New</td>\n",
       "    </tr>\n",
       "    <tr>\n",
       "      <th>2</th>\n",
       "      <td>Ημιώροφος</td>\n",
       "      <td>1</td>\n",
       "      <td>1</td>\n",
       "      <td>Πολίχνη</td>\n",
       "      <td>6</td>\n",
       "      <td>400</td>\n",
       "      <td>Διαμέρισμα</td>\n",
       "      <td>67</td>\n",
       "      <td>Relatively New</td>\n",
       "    </tr>\n",
       "    <tr>\n",
       "      <th>3</th>\n",
       "      <td>1ος</td>\n",
       "      <td>1</td>\n",
       "      <td>1</td>\n",
       "      <td>Πολίχνη</td>\n",
       "      <td>7</td>\n",
       "      <td>230</td>\n",
       "      <td>Διαμέρισμα</td>\n",
       "      <td>32</td>\n",
       "      <td>Relatively New</td>\n",
       "    </tr>\n",
       "    <tr>\n",
       "      <th>4</th>\n",
       "      <td>Ημιυπόγειο</td>\n",
       "      <td>1</td>\n",
       "      <td>1</td>\n",
       "      <td>Πολίχνη</td>\n",
       "      <td>4</td>\n",
       "      <td>120</td>\n",
       "      <td>Διαμέρισμα</td>\n",
       "      <td>30</td>\n",
       "      <td>New</td>\n",
       "    </tr>\n",
       "  </tbody>\n",
       "</table>\n",
       "</div>"
      ],
      "text/plain": [
       "                                          Floor  Bedrooms  Bathrooms  \\\n",
       "0                       Ισόγειο                         1          1   \n",
       "1                       Ισόγειο                         3          1   \n",
       "2                     Ημιώροφος                         1          1   \n",
       "3                           1ος                         1          1   \n",
       "4                    Ημιυπόγειο                         1          1   \n",
       "\n",
       "         Area  Price/m2(€/m^2)  Price(€)          Type  Surface m^2  \\\n",
       "0     Πολίχνη                6       250    Διαμέρισμα           40   \n",
       "1  Other Area                6       450  Μονοκατοικία           75   \n",
       "2     Πολίχνη                6       400    Διαμέρισμα           67   \n",
       "3     Πολίχνη                7       230    Διαμέρισμα           32   \n",
       "4     Πολίχνη                4       120    Διαμέρισμα           30   \n",
       "\n",
       "      Year-binned  \n",
       "0             New  \n",
       "1  Relatively New  \n",
       "2  Relatively New  \n",
       "3  Relatively New  \n",
       "4             New  "
      ]
     },
     "execution_count": 57,
     "metadata": {},
     "output_type": "execute_result"
    }
   ],
   "source": [
    "#Dropping column Year \n",
    "df.drop(columns=[\"Year\"], axis=1, inplace=True)\n",
    "df.head()"
   ]
  },
  {
   "cell_type": "markdown",
   "id": "b1f1c64f-be2b-473c-8474-fca56ce0863c",
   "metadata": {
    "tags": []
   },
   "source": [
    "## One hot encoding - Dummy Variables"
   ]
  },
  {
   "cell_type": "code",
   "execution_count": 58,
   "id": "d4d980d3-a597-4d40-adb6-aa3a1101a536",
   "metadata": {},
   "outputs": [
    {
     "data": {
      "text/html": [
       "<div>\n",
       "<style scoped>\n",
       "    .dataframe tbody tr th:only-of-type {\n",
       "        vertical-align: middle;\n",
       "    }\n",
       "\n",
       "    .dataframe tbody tr th {\n",
       "        vertical-align: top;\n",
       "    }\n",
       "\n",
       "    .dataframe thead th {\n",
       "        text-align: right;\n",
       "    }\n",
       "</style>\n",
       "<table border=\"1\" class=\"dataframe\">\n",
       "  <thead>\n",
       "    <tr style=\"text-align: right;\">\n",
       "      <th></th>\n",
       "      <th>Too Old</th>\n",
       "      <th>Very Old</th>\n",
       "      <th>Old</th>\n",
       "      <th>Relatively New</th>\n",
       "      <th>New</th>\n",
       "    </tr>\n",
       "  </thead>\n",
       "  <tbody>\n",
       "    <tr>\n",
       "      <th>0</th>\n",
       "      <td>0</td>\n",
       "      <td>0</td>\n",
       "      <td>0</td>\n",
       "      <td>0</td>\n",
       "      <td>1</td>\n",
       "    </tr>\n",
       "    <tr>\n",
       "      <th>1</th>\n",
       "      <td>0</td>\n",
       "      <td>0</td>\n",
       "      <td>0</td>\n",
       "      <td>1</td>\n",
       "      <td>0</td>\n",
       "    </tr>\n",
       "    <tr>\n",
       "      <th>2</th>\n",
       "      <td>0</td>\n",
       "      <td>0</td>\n",
       "      <td>0</td>\n",
       "      <td>1</td>\n",
       "      <td>0</td>\n",
       "    </tr>\n",
       "    <tr>\n",
       "      <th>3</th>\n",
       "      <td>0</td>\n",
       "      <td>0</td>\n",
       "      <td>0</td>\n",
       "      <td>1</td>\n",
       "      <td>0</td>\n",
       "    </tr>\n",
       "    <tr>\n",
       "      <th>4</th>\n",
       "      <td>0</td>\n",
       "      <td>0</td>\n",
       "      <td>0</td>\n",
       "      <td>0</td>\n",
       "      <td>1</td>\n",
       "    </tr>\n",
       "  </tbody>\n",
       "</table>\n",
       "</div>"
      ],
      "text/plain": [
       "   Too Old  Very Old  Old  Relatively New  New\n",
       "0        0         0    0               0    1\n",
       "1        0         0    0               1    0\n",
       "2        0         0    0               1    0\n",
       "3        0         0    0               1    0\n",
       "4        0         0    0               0    1"
      ]
     },
     "execution_count": 58,
     "metadata": {},
     "output_type": "execute_result"
    }
   ],
   "source": [
    "dummy0=pd.get_dummies(df[\"Year-binned\"])\n",
    "dummy0.head()"
   ]
  },
  {
   "cell_type": "code",
   "execution_count": 59,
   "id": "eda4d989-e35d-44d4-baae-c520d4acd5b5",
   "metadata": {},
   "outputs": [
    {
     "data": {
      "text/html": [
       "<div>\n",
       "<style scoped>\n",
       "    .dataframe tbody tr th:only-of-type {\n",
       "        vertical-align: middle;\n",
       "    }\n",
       "\n",
       "    .dataframe tbody tr th {\n",
       "        vertical-align: top;\n",
       "    }\n",
       "\n",
       "    .dataframe thead th {\n",
       "        text-align: right;\n",
       "    }\n",
       "</style>\n",
       "<table border=\"1\" class=\"dataframe\">\n",
       "  <thead>\n",
       "    <tr style=\"text-align: right;\">\n",
       "      <th></th>\n",
       "      <th>Διαμέρισμα</th>\n",
       "      <th>Κτίριο</th>\n",
       "      <th>Μεζονέτα</th>\n",
       "      <th>Μονοκατοικία</th>\n",
       "    </tr>\n",
       "  </thead>\n",
       "  <tbody>\n",
       "    <tr>\n",
       "      <th>0</th>\n",
       "      <td>1</td>\n",
       "      <td>0</td>\n",
       "      <td>0</td>\n",
       "      <td>0</td>\n",
       "    </tr>\n",
       "    <tr>\n",
       "      <th>1</th>\n",
       "      <td>0</td>\n",
       "      <td>0</td>\n",
       "      <td>0</td>\n",
       "      <td>1</td>\n",
       "    </tr>\n",
       "    <tr>\n",
       "      <th>2</th>\n",
       "      <td>1</td>\n",
       "      <td>0</td>\n",
       "      <td>0</td>\n",
       "      <td>0</td>\n",
       "    </tr>\n",
       "    <tr>\n",
       "      <th>3</th>\n",
       "      <td>1</td>\n",
       "      <td>0</td>\n",
       "      <td>0</td>\n",
       "      <td>0</td>\n",
       "    </tr>\n",
       "    <tr>\n",
       "      <th>4</th>\n",
       "      <td>1</td>\n",
       "      <td>0</td>\n",
       "      <td>0</td>\n",
       "      <td>0</td>\n",
       "    </tr>\n",
       "  </tbody>\n",
       "</table>\n",
       "</div>"
      ],
      "text/plain": [
       "   Διαμέρισμα  Κτίριο  Μεζονέτα  Μονοκατοικία\n",
       "0           1       0         0             0\n",
       "1           0       0         0             1\n",
       "2           1       0         0             0\n",
       "3           1       0         0             0\n",
       "4           1       0         0             0"
      ]
     },
     "execution_count": 59,
     "metadata": {},
     "output_type": "execute_result"
    }
   ],
   "source": [
    "dummy1=pd.get_dummies(df[\"Type\"])\n",
    "dummy1.head()"
   ]
  },
  {
   "cell_type": "code",
   "execution_count": 60,
   "id": "b04ec83b-a5f3-4c5e-9eab-c5db92f4df50",
   "metadata": {},
   "outputs": [
    {
     "data": {
      "text/html": [
       "<div>\n",
       "<style scoped>\n",
       "    .dataframe tbody tr th:only-of-type {\n",
       "        vertical-align: middle;\n",
       "    }\n",
       "\n",
       "    .dataframe tbody tr th {\n",
       "        vertical-align: top;\n",
       "    }\n",
       "\n",
       "    .dataframe thead th {\n",
       "        text-align: right;\n",
       "    }\n",
       "</style>\n",
       "<table border=\"1\" class=\"dataframe\">\n",
       "  <thead>\n",
       "    <tr style=\"text-align: right;\">\n",
       "      <th></th>\n",
       "      <th>1ος</th>\n",
       "      <th>2ος</th>\n",
       "      <th>3ος</th>\n",
       "      <th>4ος</th>\n",
       "      <th>5ος</th>\n",
       "      <th>6ος</th>\n",
       "      <th>7ος</th>\n",
       "      <th>8ος</th>\n",
       "      <th>Ημιυπόγειο</th>\n",
       "      <th>Ημιώροφος</th>\n",
       "      <th>Ισόγειο</th>\n",
       "      <th>Υπερυψωμένο</th>\n",
       "      <th>Υπόγειο</th>\n",
       "    </tr>\n",
       "  </thead>\n",
       "  <tbody>\n",
       "    <tr>\n",
       "      <th>0</th>\n",
       "      <td>0</td>\n",
       "      <td>0</td>\n",
       "      <td>0</td>\n",
       "      <td>0</td>\n",
       "      <td>0</td>\n",
       "      <td>0</td>\n",
       "      <td>0</td>\n",
       "      <td>0</td>\n",
       "      <td>0</td>\n",
       "      <td>0</td>\n",
       "      <td>1</td>\n",
       "      <td>0</td>\n",
       "      <td>0</td>\n",
       "    </tr>\n",
       "    <tr>\n",
       "      <th>1</th>\n",
       "      <td>0</td>\n",
       "      <td>0</td>\n",
       "      <td>0</td>\n",
       "      <td>0</td>\n",
       "      <td>0</td>\n",
       "      <td>0</td>\n",
       "      <td>0</td>\n",
       "      <td>0</td>\n",
       "      <td>0</td>\n",
       "      <td>0</td>\n",
       "      <td>1</td>\n",
       "      <td>0</td>\n",
       "      <td>0</td>\n",
       "    </tr>\n",
       "    <tr>\n",
       "      <th>2</th>\n",
       "      <td>0</td>\n",
       "      <td>0</td>\n",
       "      <td>0</td>\n",
       "      <td>0</td>\n",
       "      <td>0</td>\n",
       "      <td>0</td>\n",
       "      <td>0</td>\n",
       "      <td>0</td>\n",
       "      <td>0</td>\n",
       "      <td>1</td>\n",
       "      <td>0</td>\n",
       "      <td>0</td>\n",
       "      <td>0</td>\n",
       "    </tr>\n",
       "    <tr>\n",
       "      <th>3</th>\n",
       "      <td>1</td>\n",
       "      <td>0</td>\n",
       "      <td>0</td>\n",
       "      <td>0</td>\n",
       "      <td>0</td>\n",
       "      <td>0</td>\n",
       "      <td>0</td>\n",
       "      <td>0</td>\n",
       "      <td>0</td>\n",
       "      <td>0</td>\n",
       "      <td>0</td>\n",
       "      <td>0</td>\n",
       "      <td>0</td>\n",
       "    </tr>\n",
       "    <tr>\n",
       "      <th>4</th>\n",
       "      <td>0</td>\n",
       "      <td>0</td>\n",
       "      <td>0</td>\n",
       "      <td>0</td>\n",
       "      <td>0</td>\n",
       "      <td>0</td>\n",
       "      <td>0</td>\n",
       "      <td>0</td>\n",
       "      <td>1</td>\n",
       "      <td>0</td>\n",
       "      <td>0</td>\n",
       "      <td>0</td>\n",
       "      <td>0</td>\n",
       "    </tr>\n",
       "  </tbody>\n",
       "</table>\n",
       "</div>"
      ],
      "text/plain": [
       "                     1ος                  \\\n",
       "0                                      0   \n",
       "1                                      0   \n",
       "2                                      0   \n",
       "3                                      1   \n",
       "4                                      0   \n",
       "\n",
       "                     2ος                  \\\n",
       "0                                      0   \n",
       "1                                      0   \n",
       "2                                      0   \n",
       "3                                      0   \n",
       "4                                      0   \n",
       "\n",
       "                     3ος                  \\\n",
       "0                                      0   \n",
       "1                                      0   \n",
       "2                                      0   \n",
       "3                                      0   \n",
       "4                                      0   \n",
       "\n",
       "                     4ος                  \\\n",
       "0                                      0   \n",
       "1                                      0   \n",
       "2                                      0   \n",
       "3                                      0   \n",
       "4                                      0   \n",
       "\n",
       "                     5ος                  \\\n",
       "0                                      0   \n",
       "1                                      0   \n",
       "2                                      0   \n",
       "3                                      0   \n",
       "4                                      0   \n",
       "\n",
       "                     6ος                  \\\n",
       "0                                      0   \n",
       "1                                      0   \n",
       "2                                      0   \n",
       "3                                      0   \n",
       "4                                      0   \n",
       "\n",
       "                     7ος                  \\\n",
       "0                                      0   \n",
       "1                                      0   \n",
       "2                                      0   \n",
       "3                                      0   \n",
       "4                                      0   \n",
       "\n",
       "                     8ος                  \\\n",
       "0                                      0   \n",
       "1                                      0   \n",
       "2                                      0   \n",
       "3                                      0   \n",
       "4                                      0   \n",
       "\n",
       "                     Ημιυπόγειο                  \\\n",
       "0                                             0   \n",
       "1                                             0   \n",
       "2                                             0   \n",
       "3                                             0   \n",
       "4                                             1   \n",
       "\n",
       "                     Ημιώροφος                  \\\n",
       "0                                            0   \n",
       "1                                            0   \n",
       "2                                            1   \n",
       "3                                            0   \n",
       "4                                            0   \n",
       "\n",
       "                     Ισόγειο                  \\\n",
       "0                                          1   \n",
       "1                                          1   \n",
       "2                                          0   \n",
       "3                                          0   \n",
       "4                                          0   \n",
       "\n",
       "                     Υπερυψωμένο                  \\\n",
       "0                                              0   \n",
       "1                                              0   \n",
       "2                                              0   \n",
       "3                                              0   \n",
       "4                                              0   \n",
       "\n",
       "                     Υπόγειο                  \n",
       "0                                          0  \n",
       "1                                          0  \n",
       "2                                          0  \n",
       "3                                          0  \n",
       "4                                          0  "
      ]
     },
     "execution_count": 60,
     "metadata": {},
     "output_type": "execute_result"
    }
   ],
   "source": [
    "dummy2=pd.get_dummies(df[\"Floor\"])\n",
    "dummy2.head()"
   ]
  },
  {
   "cell_type": "code",
   "execution_count": 61,
   "id": "f4df547d-fca6-4bd7-ab31-9bbe24d98219",
   "metadata": {
    "tags": []
   },
   "outputs": [
    {
     "data": {
      "text/html": [
       "<div>\n",
       "<style scoped>\n",
       "    .dataframe tbody tr th:only-of-type {\n",
       "        vertical-align: middle;\n",
       "    }\n",
       "\n",
       "    .dataframe tbody tr th {\n",
       "        vertical-align: top;\n",
       "    }\n",
       "\n",
       "    .dataframe thead th {\n",
       "        text-align: right;\n",
       "    }\n",
       "</style>\n",
       "<table border=\"1\" class=\"dataframe\">\n",
       "  <thead>\n",
       "    <tr style=\"text-align: right;\">\n",
       "      <th></th>\n",
       "      <th>40 Εκκλησιές</th>\n",
       "      <th>Other Area</th>\n",
       "      <th>Άγιος Παύλος Αγιος Παύλος</th>\n",
       "      <th>Αμπελόκηποι</th>\n",
       "      <th>Ανάληψη</th>\n",
       "      <th>Ανω Πόλη</th>\n",
       "      <th>Ανω Τούμπα</th>\n",
       "      <th>Βαρδάρη</th>\n",
       "      <th>Εύοσμος</th>\n",
       "      <th>Κάτω Τούμπα</th>\n",
       "      <th>...</th>\n",
       "      <th>Περαία</th>\n",
       "      <th>Πολίχνη</th>\n",
       "      <th>Πυλαία</th>\n",
       "      <th>Σταυρούπολη</th>\n",
       "      <th>Συκιές</th>\n",
       "      <th>Τριανδρία</th>\n",
       "      <th>Φάληρο</th>\n",
       "      <th>ΧΑΝΘ</th>\n",
       "      <th>Χαριλάου</th>\n",
       "      <th>Ωραιόκαστρο</th>\n",
       "    </tr>\n",
       "  </thead>\n",
       "  <tbody>\n",
       "    <tr>\n",
       "      <th>0</th>\n",
       "      <td>0</td>\n",
       "      <td>0</td>\n",
       "      <td>0</td>\n",
       "      <td>0</td>\n",
       "      <td>0</td>\n",
       "      <td>0</td>\n",
       "      <td>0</td>\n",
       "      <td>0</td>\n",
       "      <td>0</td>\n",
       "      <td>0</td>\n",
       "      <td>...</td>\n",
       "      <td>0</td>\n",
       "      <td>1</td>\n",
       "      <td>0</td>\n",
       "      <td>0</td>\n",
       "      <td>0</td>\n",
       "      <td>0</td>\n",
       "      <td>0</td>\n",
       "      <td>0</td>\n",
       "      <td>0</td>\n",
       "      <td>0</td>\n",
       "    </tr>\n",
       "    <tr>\n",
       "      <th>1</th>\n",
       "      <td>0</td>\n",
       "      <td>1</td>\n",
       "      <td>0</td>\n",
       "      <td>0</td>\n",
       "      <td>0</td>\n",
       "      <td>0</td>\n",
       "      <td>0</td>\n",
       "      <td>0</td>\n",
       "      <td>0</td>\n",
       "      <td>0</td>\n",
       "      <td>...</td>\n",
       "      <td>0</td>\n",
       "      <td>0</td>\n",
       "      <td>0</td>\n",
       "      <td>0</td>\n",
       "      <td>0</td>\n",
       "      <td>0</td>\n",
       "      <td>0</td>\n",
       "      <td>0</td>\n",
       "      <td>0</td>\n",
       "      <td>0</td>\n",
       "    </tr>\n",
       "    <tr>\n",
       "      <th>2</th>\n",
       "      <td>0</td>\n",
       "      <td>0</td>\n",
       "      <td>0</td>\n",
       "      <td>0</td>\n",
       "      <td>0</td>\n",
       "      <td>0</td>\n",
       "      <td>0</td>\n",
       "      <td>0</td>\n",
       "      <td>0</td>\n",
       "      <td>0</td>\n",
       "      <td>...</td>\n",
       "      <td>0</td>\n",
       "      <td>1</td>\n",
       "      <td>0</td>\n",
       "      <td>0</td>\n",
       "      <td>0</td>\n",
       "      <td>0</td>\n",
       "      <td>0</td>\n",
       "      <td>0</td>\n",
       "      <td>0</td>\n",
       "      <td>0</td>\n",
       "    </tr>\n",
       "    <tr>\n",
       "      <th>3</th>\n",
       "      <td>0</td>\n",
       "      <td>0</td>\n",
       "      <td>0</td>\n",
       "      <td>0</td>\n",
       "      <td>0</td>\n",
       "      <td>0</td>\n",
       "      <td>0</td>\n",
       "      <td>0</td>\n",
       "      <td>0</td>\n",
       "      <td>0</td>\n",
       "      <td>...</td>\n",
       "      <td>0</td>\n",
       "      <td>1</td>\n",
       "      <td>0</td>\n",
       "      <td>0</td>\n",
       "      <td>0</td>\n",
       "      <td>0</td>\n",
       "      <td>0</td>\n",
       "      <td>0</td>\n",
       "      <td>0</td>\n",
       "      <td>0</td>\n",
       "    </tr>\n",
       "    <tr>\n",
       "      <th>4</th>\n",
       "      <td>0</td>\n",
       "      <td>0</td>\n",
       "      <td>0</td>\n",
       "      <td>0</td>\n",
       "      <td>0</td>\n",
       "      <td>0</td>\n",
       "      <td>0</td>\n",
       "      <td>0</td>\n",
       "      <td>0</td>\n",
       "      <td>0</td>\n",
       "      <td>...</td>\n",
       "      <td>0</td>\n",
       "      <td>1</td>\n",
       "      <td>0</td>\n",
       "      <td>0</td>\n",
       "      <td>0</td>\n",
       "      <td>0</td>\n",
       "      <td>0</td>\n",
       "      <td>0</td>\n",
       "      <td>0</td>\n",
       "      <td>0</td>\n",
       "    </tr>\n",
       "  </tbody>\n",
       "</table>\n",
       "<p>5 rows × 28 columns</p>\n",
       "</div>"
      ],
      "text/plain": [
       "   40 Εκκλησιές  Other Area  Άγιος Παύλος Αγιος Παύλος  Αμπελόκηποι  Ανάληψη  \\\n",
       "0             0           0                          0            0        0   \n",
       "1             0           1                          0            0        0   \n",
       "2             0           0                          0            0        0   \n",
       "3             0           0                          0            0        0   \n",
       "4             0           0                          0            0        0   \n",
       "\n",
       "   Ανω Πόλη  Ανω Τούμπα  Βαρδάρη  Εύοσμος  Κάτω Τούμπα  ...  Περαία  Πολίχνη  \\\n",
       "0         0           0        0        0            0  ...       0        1   \n",
       "1         0           0        0        0            0  ...       0        0   \n",
       "2         0           0        0        0            0  ...       0        1   \n",
       "3         0           0        0        0            0  ...       0        1   \n",
       "4         0           0        0        0            0  ...       0        1   \n",
       "\n",
       "   Πυλαία  Σταυρούπολη  Συκιές  Τριανδρία  Φάληρο  ΧΑΝΘ  Χαριλάου  Ωραιόκαστρο  \n",
       "0       0            0       0          0       0     0         0            0  \n",
       "1       0            0       0          0       0     0         0            0  \n",
       "2       0            0       0          0       0     0         0            0  \n",
       "3       0            0       0          0       0     0         0            0  \n",
       "4       0            0       0          0       0     0         0            0  \n",
       "\n",
       "[5 rows x 28 columns]"
      ]
     },
     "execution_count": 61,
     "metadata": {},
     "output_type": "execute_result"
    }
   ],
   "source": [
    "dummy3=pd.get_dummies(df[\"Area\"])\n",
    "dummy3.head()"
   ]
  },
  {
   "cell_type": "code",
   "execution_count": 62,
   "id": "b10ed5df-0829-4f99-944b-f4a673594363",
   "metadata": {},
   "outputs": [],
   "source": [
    "final_df=pd.concat([df,dummy0, dummy1, dummy2, dummy3], axis=1)\n",
    "final_df.drop([\"Type\", \"Floor\",\"Area\",\"Price/m2(€/m^2)\",\"Year-binned\"], axis=1, inplace=True)"
   ]
  },
  {
   "cell_type": "markdown",
   "id": "73f620d9-3faa-4866-93c1-ff491485c587",
   "metadata": {
    "tags": []
   },
   "source": [
    "## Model Development"
   ]
  },
  {
   "cell_type": "markdown",
   "id": "990d9836-1da9-4c7b-884f-30e9a97b2ba8",
   "metadata": {},
   "source": [
    "### Linear Regression"
   ]
  },
  {
   "cell_type": "markdown",
   "id": "573e6905-9760-4d4e-94ce-23b120991f91",
   "metadata": {},
   "source": [
    "**First lets try a Linear Regression Model using the variable with the highest correlation which is \"Surface m^2\"**"
   ]
  },
  {
   "cell_type": "code",
   "execution_count": 63,
   "id": "1fc1c5cc-c848-457c-9d3b-2e6b88044fe7",
   "metadata": {},
   "outputs": [
    {
     "data": {
      "text/html": [
       "<div>\n",
       "<style scoped>\n",
       "    .dataframe tbody tr th:only-of-type {\n",
       "        vertical-align: middle;\n",
       "    }\n",
       "\n",
       "    .dataframe tbody tr th {\n",
       "        vertical-align: top;\n",
       "    }\n",
       "\n",
       "    .dataframe thead th {\n",
       "        text-align: right;\n",
       "    }\n",
       "</style>\n",
       "<table border=\"1\" class=\"dataframe\">\n",
       "  <thead>\n",
       "    <tr style=\"text-align: right;\">\n",
       "      <th></th>\n",
       "      <th>Surface m^2</th>\n",
       "    </tr>\n",
       "  </thead>\n",
       "  <tbody>\n",
       "    <tr>\n",
       "      <th>0</th>\n",
       "      <td>40</td>\n",
       "    </tr>\n",
       "    <tr>\n",
       "      <th>1</th>\n",
       "      <td>75</td>\n",
       "    </tr>\n",
       "    <tr>\n",
       "      <th>2</th>\n",
       "      <td>67</td>\n",
       "    </tr>\n",
       "    <tr>\n",
       "      <th>3</th>\n",
       "      <td>32</td>\n",
       "    </tr>\n",
       "    <tr>\n",
       "      <th>4</th>\n",
       "      <td>30</td>\n",
       "    </tr>\n",
       "    <tr>\n",
       "      <th>...</th>\n",
       "      <td>...</td>\n",
       "    </tr>\n",
       "    <tr>\n",
       "      <th>1772</th>\n",
       "      <td>75</td>\n",
       "    </tr>\n",
       "    <tr>\n",
       "      <th>1773</th>\n",
       "      <td>80</td>\n",
       "    </tr>\n",
       "    <tr>\n",
       "      <th>1774</th>\n",
       "      <td>43</td>\n",
       "    </tr>\n",
       "    <tr>\n",
       "      <th>1775</th>\n",
       "      <td>83</td>\n",
       "    </tr>\n",
       "    <tr>\n",
       "      <th>1776</th>\n",
       "      <td>45</td>\n",
       "    </tr>\n",
       "  </tbody>\n",
       "</table>\n",
       "<p>1777 rows × 1 columns</p>\n",
       "</div>"
      ],
      "text/plain": [
       "      Surface m^2\n",
       "0              40\n",
       "1              75\n",
       "2              67\n",
       "3              32\n",
       "4              30\n",
       "...           ...\n",
       "1772           75\n",
       "1773           80\n",
       "1774           43\n",
       "1775           83\n",
       "1776           45\n",
       "\n",
       "[1777 rows x 1 columns]"
      ]
     },
     "execution_count": 63,
     "metadata": {},
     "output_type": "execute_result"
    }
   ],
   "source": [
    "X=final_df[[\"Surface m^2\"]]\n",
    "X"
   ]
  },
  {
   "cell_type": "code",
   "execution_count": 64,
   "id": "7c844337-5ce1-4f0c-aae4-029bd591c969",
   "metadata": {},
   "outputs": [
    {
     "data": {
      "text/plain": [
       "0        250\n",
       "1        450\n",
       "2        400\n",
       "3        230\n",
       "4        120\n",
       "        ... \n",
       "1772     390\n",
       "1773     600\n",
       "1774     400\n",
       "1775    1100\n",
       "1776     280\n",
       "Name: Price(€), Length: 1777, dtype: int32"
      ]
     },
     "execution_count": 64,
     "metadata": {},
     "output_type": "execute_result"
    }
   ],
   "source": [
    "y=final_df[\"Price(€)\"]\n",
    "y"
   ]
  },
  {
   "cell_type": "code",
   "execution_count": 65,
   "id": "5a8c7e30-d0f7-4aae-844f-b7b03e3132f1",
   "metadata": {},
   "outputs": [],
   "source": [
    "from sklearn.model_selection import train_test_split\n",
    "X_train, X_test, y_train, y_test= train_test_split(X, y, test_size=0.13, random_state=10)"
   ]
  },
  {
   "cell_type": "code",
   "execution_count": 66,
   "id": "03df2997-f230-46a0-9f57-2ac1cb5a0fc6",
   "metadata": {},
   "outputs": [
    {
     "data": {
      "text/plain": [
       "LinearRegression()"
      ]
     },
     "execution_count": 66,
     "metadata": {},
     "output_type": "execute_result"
    }
   ],
   "source": [
    "from sklearn.linear_model import LinearRegression\n",
    "lr=LinearRegression()\n",
    "lr.fit(X_train, y_train)"
   ]
  },
  {
   "cell_type": "code",
   "execution_count": 67,
   "id": "986027fa-5b36-4117-a57f-e0f7b1d2001e",
   "metadata": {},
   "outputs": [],
   "source": [
    "from sklearn.metrics import r2_score, mean_absolute_error, mean_squared_error"
   ]
  },
  {
   "cell_type": "code",
   "execution_count": 68,
   "id": "c46527d9-8546-45fb-b91c-bb432d9de766",
   "metadata": {},
   "outputs": [
    {
     "name": "stdout",
     "output_type": "stream",
     "text": [
      "The R^2 error for the training set is: 0.572\n",
      "The R^2 error for the testing set is: 0.569\n"
     ]
    }
   ],
   "source": [
    "print(\"The R^2 error for the training set is: {}\".format(round(lr.score(X_train, y_train),3)))\n",
    "print(\"The R^2 error for the testing set is: {}\".format(round(lr.score(X_test, y_test),3)))"
   ]
  },
  {
   "cell_type": "code",
   "execution_count": 69,
   "id": "1f07e9b8-f696-4fe4-a5f9-834a22da96dc",
   "metadata": {},
   "outputs": [
    {
     "name": "stdout",
     "output_type": "stream",
     "text": [
      "The MAE error for the training set is: 0.572\n",
      "The MAE error for the testing set is: 0.569\n"
     ]
    }
   ],
   "source": [
    "print(\"The MAE error for the training set is: {}\".format(round(lr.score(X_train, y_train),3)))\n",
    "print(\"The MAE error for the testing set is: {}\".format(round(lr.score(X_test, y_test),3)))"
   ]
  },
  {
   "cell_type": "markdown",
   "id": "f2b4ded2-2a39-43d3-ab63-4cc3a48c3e05",
   "metadata": {},
   "source": [
    "**Lets try to use a Multiple Linear Regression model and watch if the accuracy is increased**"
   ]
  },
  {
   "cell_type": "markdown",
   "id": "ac3c0e62-6428-4098-b7af-cc617e588cc0",
   "metadata": {},
   "source": [
    "### Multiple Linear Regression"
   ]
  },
  {
   "cell_type": "code",
   "execution_count": 70,
   "id": "fe9a8121-013a-45dc-aba8-8ccffb362bf4",
   "metadata": {},
   "outputs": [
    {
     "data": {
      "text/html": [
       "<div>\n",
       "<style scoped>\n",
       "    .dataframe tbody tr th:only-of-type {\n",
       "        vertical-align: middle;\n",
       "    }\n",
       "\n",
       "    .dataframe tbody tr th {\n",
       "        vertical-align: top;\n",
       "    }\n",
       "\n",
       "    .dataframe thead th {\n",
       "        text-align: right;\n",
       "    }\n",
       "</style>\n",
       "<table border=\"1\" class=\"dataframe\">\n",
       "  <thead>\n",
       "    <tr style=\"text-align: right;\">\n",
       "      <th></th>\n",
       "      <th>Bedrooms</th>\n",
       "      <th>Bathrooms</th>\n",
       "      <th>Surface m^2</th>\n",
       "      <th>Too Old</th>\n",
       "      <th>Very Old</th>\n",
       "      <th>Old</th>\n",
       "      <th>Relatively New</th>\n",
       "      <th>New</th>\n",
       "      <th>Διαμέρισμα</th>\n",
       "      <th>Κτίριο</th>\n",
       "      <th>...</th>\n",
       "      <th>Περαία</th>\n",
       "      <th>Πολίχνη</th>\n",
       "      <th>Πυλαία</th>\n",
       "      <th>Σταυρούπολη</th>\n",
       "      <th>Συκιές</th>\n",
       "      <th>Τριανδρία</th>\n",
       "      <th>Φάληρο</th>\n",
       "      <th>ΧΑΝΘ</th>\n",
       "      <th>Χαριλάου</th>\n",
       "      <th>Ωραιόκαστρο</th>\n",
       "    </tr>\n",
       "  </thead>\n",
       "  <tbody>\n",
       "    <tr>\n",
       "      <th>0</th>\n",
       "      <td>1</td>\n",
       "      <td>1</td>\n",
       "      <td>40</td>\n",
       "      <td>0</td>\n",
       "      <td>0</td>\n",
       "      <td>0</td>\n",
       "      <td>0</td>\n",
       "      <td>1</td>\n",
       "      <td>1</td>\n",
       "      <td>0</td>\n",
       "      <td>...</td>\n",
       "      <td>0</td>\n",
       "      <td>1</td>\n",
       "      <td>0</td>\n",
       "      <td>0</td>\n",
       "      <td>0</td>\n",
       "      <td>0</td>\n",
       "      <td>0</td>\n",
       "      <td>0</td>\n",
       "      <td>0</td>\n",
       "      <td>0</td>\n",
       "    </tr>\n",
       "    <tr>\n",
       "      <th>1</th>\n",
       "      <td>3</td>\n",
       "      <td>1</td>\n",
       "      <td>75</td>\n",
       "      <td>0</td>\n",
       "      <td>0</td>\n",
       "      <td>0</td>\n",
       "      <td>1</td>\n",
       "      <td>0</td>\n",
       "      <td>0</td>\n",
       "      <td>0</td>\n",
       "      <td>...</td>\n",
       "      <td>0</td>\n",
       "      <td>0</td>\n",
       "      <td>0</td>\n",
       "      <td>0</td>\n",
       "      <td>0</td>\n",
       "      <td>0</td>\n",
       "      <td>0</td>\n",
       "      <td>0</td>\n",
       "      <td>0</td>\n",
       "      <td>0</td>\n",
       "    </tr>\n",
       "    <tr>\n",
       "      <th>2</th>\n",
       "      <td>1</td>\n",
       "      <td>1</td>\n",
       "      <td>67</td>\n",
       "      <td>0</td>\n",
       "      <td>0</td>\n",
       "      <td>0</td>\n",
       "      <td>1</td>\n",
       "      <td>0</td>\n",
       "      <td>1</td>\n",
       "      <td>0</td>\n",
       "      <td>...</td>\n",
       "      <td>0</td>\n",
       "      <td>1</td>\n",
       "      <td>0</td>\n",
       "      <td>0</td>\n",
       "      <td>0</td>\n",
       "      <td>0</td>\n",
       "      <td>0</td>\n",
       "      <td>0</td>\n",
       "      <td>0</td>\n",
       "      <td>0</td>\n",
       "    </tr>\n",
       "    <tr>\n",
       "      <th>3</th>\n",
       "      <td>1</td>\n",
       "      <td>1</td>\n",
       "      <td>32</td>\n",
       "      <td>0</td>\n",
       "      <td>0</td>\n",
       "      <td>0</td>\n",
       "      <td>1</td>\n",
       "      <td>0</td>\n",
       "      <td>1</td>\n",
       "      <td>0</td>\n",
       "      <td>...</td>\n",
       "      <td>0</td>\n",
       "      <td>1</td>\n",
       "      <td>0</td>\n",
       "      <td>0</td>\n",
       "      <td>0</td>\n",
       "      <td>0</td>\n",
       "      <td>0</td>\n",
       "      <td>0</td>\n",
       "      <td>0</td>\n",
       "      <td>0</td>\n",
       "    </tr>\n",
       "    <tr>\n",
       "      <th>4</th>\n",
       "      <td>1</td>\n",
       "      <td>1</td>\n",
       "      <td>30</td>\n",
       "      <td>0</td>\n",
       "      <td>0</td>\n",
       "      <td>0</td>\n",
       "      <td>0</td>\n",
       "      <td>1</td>\n",
       "      <td>1</td>\n",
       "      <td>0</td>\n",
       "      <td>...</td>\n",
       "      <td>0</td>\n",
       "      <td>1</td>\n",
       "      <td>0</td>\n",
       "      <td>0</td>\n",
       "      <td>0</td>\n",
       "      <td>0</td>\n",
       "      <td>0</td>\n",
       "      <td>0</td>\n",
       "      <td>0</td>\n",
       "      <td>0</td>\n",
       "    </tr>\n",
       "    <tr>\n",
       "      <th>...</th>\n",
       "      <td>...</td>\n",
       "      <td>...</td>\n",
       "      <td>...</td>\n",
       "      <td>...</td>\n",
       "      <td>...</td>\n",
       "      <td>...</td>\n",
       "      <td>...</td>\n",
       "      <td>...</td>\n",
       "      <td>...</td>\n",
       "      <td>...</td>\n",
       "      <td>...</td>\n",
       "      <td>...</td>\n",
       "      <td>...</td>\n",
       "      <td>...</td>\n",
       "      <td>...</td>\n",
       "      <td>...</td>\n",
       "      <td>...</td>\n",
       "      <td>...</td>\n",
       "      <td>...</td>\n",
       "      <td>...</td>\n",
       "      <td>...</td>\n",
       "    </tr>\n",
       "    <tr>\n",
       "      <th>1772</th>\n",
       "      <td>1</td>\n",
       "      <td>1</td>\n",
       "      <td>75</td>\n",
       "      <td>0</td>\n",
       "      <td>0</td>\n",
       "      <td>1</td>\n",
       "      <td>0</td>\n",
       "      <td>0</td>\n",
       "      <td>1</td>\n",
       "      <td>0</td>\n",
       "      <td>...</td>\n",
       "      <td>0</td>\n",
       "      <td>0</td>\n",
       "      <td>0</td>\n",
       "      <td>0</td>\n",
       "      <td>0</td>\n",
       "      <td>0</td>\n",
       "      <td>0</td>\n",
       "      <td>0</td>\n",
       "      <td>0</td>\n",
       "      <td>0</td>\n",
       "    </tr>\n",
       "    <tr>\n",
       "      <th>1773</th>\n",
       "      <td>3</td>\n",
       "      <td>1</td>\n",
       "      <td>80</td>\n",
       "      <td>0</td>\n",
       "      <td>0</td>\n",
       "      <td>1</td>\n",
       "      <td>0</td>\n",
       "      <td>0</td>\n",
       "      <td>1</td>\n",
       "      <td>0</td>\n",
       "      <td>...</td>\n",
       "      <td>0</td>\n",
       "      <td>0</td>\n",
       "      <td>0</td>\n",
       "      <td>0</td>\n",
       "      <td>0</td>\n",
       "      <td>0</td>\n",
       "      <td>0</td>\n",
       "      <td>0</td>\n",
       "      <td>0</td>\n",
       "      <td>0</td>\n",
       "    </tr>\n",
       "    <tr>\n",
       "      <th>1774</th>\n",
       "      <td>1</td>\n",
       "      <td>1</td>\n",
       "      <td>43</td>\n",
       "      <td>0</td>\n",
       "      <td>0</td>\n",
       "      <td>0</td>\n",
       "      <td>1</td>\n",
       "      <td>0</td>\n",
       "      <td>1</td>\n",
       "      <td>0</td>\n",
       "      <td>...</td>\n",
       "      <td>0</td>\n",
       "      <td>0</td>\n",
       "      <td>0</td>\n",
       "      <td>0</td>\n",
       "      <td>0</td>\n",
       "      <td>0</td>\n",
       "      <td>0</td>\n",
       "      <td>0</td>\n",
       "      <td>0</td>\n",
       "      <td>0</td>\n",
       "    </tr>\n",
       "    <tr>\n",
       "      <th>1775</th>\n",
       "      <td>2</td>\n",
       "      <td>2</td>\n",
       "      <td>83</td>\n",
       "      <td>0</td>\n",
       "      <td>0</td>\n",
       "      <td>0</td>\n",
       "      <td>1</td>\n",
       "      <td>0</td>\n",
       "      <td>1</td>\n",
       "      <td>0</td>\n",
       "      <td>...</td>\n",
       "      <td>0</td>\n",
       "      <td>0</td>\n",
       "      <td>0</td>\n",
       "      <td>0</td>\n",
       "      <td>0</td>\n",
       "      <td>0</td>\n",
       "      <td>0</td>\n",
       "      <td>0</td>\n",
       "      <td>0</td>\n",
       "      <td>0</td>\n",
       "    </tr>\n",
       "    <tr>\n",
       "      <th>1776</th>\n",
       "      <td>1</td>\n",
       "      <td>1</td>\n",
       "      <td>45</td>\n",
       "      <td>0</td>\n",
       "      <td>0</td>\n",
       "      <td>0</td>\n",
       "      <td>1</td>\n",
       "      <td>0</td>\n",
       "      <td>1</td>\n",
       "      <td>0</td>\n",
       "      <td>...</td>\n",
       "      <td>0</td>\n",
       "      <td>0</td>\n",
       "      <td>0</td>\n",
       "      <td>0</td>\n",
       "      <td>0</td>\n",
       "      <td>0</td>\n",
       "      <td>0</td>\n",
       "      <td>0</td>\n",
       "      <td>0</td>\n",
       "      <td>0</td>\n",
       "    </tr>\n",
       "  </tbody>\n",
       "</table>\n",
       "<p>1777 rows × 53 columns</p>\n",
       "</div>"
      ],
      "text/plain": [
       "      Bedrooms  Bathrooms  Surface m^2  Too Old  Very Old  Old  \\\n",
       "0            1          1           40        0         0    0   \n",
       "1            3          1           75        0         0    0   \n",
       "2            1          1           67        0         0    0   \n",
       "3            1          1           32        0         0    0   \n",
       "4            1          1           30        0         0    0   \n",
       "...        ...        ...          ...      ...       ...  ...   \n",
       "1772         1          1           75        0         0    1   \n",
       "1773         3          1           80        0         0    1   \n",
       "1774         1          1           43        0         0    0   \n",
       "1775         2          2           83        0         0    0   \n",
       "1776         1          1           45        0         0    0   \n",
       "\n",
       "      Relatively New  New  Διαμέρισμα  Κτίριο  ...  Περαία  Πολίχνη  Πυλαία  \\\n",
       "0                  0    1           1       0  ...       0        1       0   \n",
       "1                  1    0           0       0  ...       0        0       0   \n",
       "2                  1    0           1       0  ...       0        1       0   \n",
       "3                  1    0           1       0  ...       0        1       0   \n",
       "4                  0    1           1       0  ...       0        1       0   \n",
       "...              ...  ...         ...     ...  ...     ...      ...     ...   \n",
       "1772               0    0           1       0  ...       0        0       0   \n",
       "1773               0    0           1       0  ...       0        0       0   \n",
       "1774               1    0           1       0  ...       0        0       0   \n",
       "1775               1    0           1       0  ...       0        0       0   \n",
       "1776               1    0           1       0  ...       0        0       0   \n",
       "\n",
       "      Σταυρούπολη  Συκιές  Τριανδρία  Φάληρο  ΧΑΝΘ  Χαριλάου  Ωραιόκαστρο  \n",
       "0               0       0          0       0     0         0            0  \n",
       "1               0       0          0       0     0         0            0  \n",
       "2               0       0          0       0     0         0            0  \n",
       "3               0       0          0       0     0         0            0  \n",
       "4               0       0          0       0     0         0            0  \n",
       "...           ...     ...        ...     ...   ...       ...          ...  \n",
       "1772            0       0          0       0     0         0            0  \n",
       "1773            0       0          0       0     0         0            0  \n",
       "1774            0       0          0       0     0         0            0  \n",
       "1775            0       0          0       0     0         0            0  \n",
       "1776            0       0          0       0     0         0            0  \n",
       "\n",
       "[1777 rows x 53 columns]"
      ]
     },
     "execution_count": 70,
     "metadata": {},
     "output_type": "execute_result"
    }
   ],
   "source": [
    "Z=final_df.drop(columns=[\"Price(€)\"], axis=1)\n",
    "Z"
   ]
  },
  {
   "cell_type": "code",
   "execution_count": 71,
   "id": "11086668-b08a-46ed-955c-bb65dc038563",
   "metadata": {},
   "outputs": [],
   "source": [
    "Z_train, Z_test, y_train, y_test= train_test_split(Z, y, test_size=0.13, random_state=10)"
   ]
  },
  {
   "cell_type": "code",
   "execution_count": 72,
   "id": "6482975a-e83f-4c33-8b54-5da1e4315406",
   "metadata": {},
   "outputs": [],
   "source": [
    "from sklearn.preprocessing import StandardScaler\n",
    "scaler = StandardScaler()\n",
    "numeric=[\"Bedrooms\",\"Bathrooms\",\"Surface m^2\"]\n",
    "Z_train[numeric]=scaler.fit_transform(Z_train[numeric])\n",
    "Z_test[numeric]=scaler.transform(Z_test[numeric])"
   ]
  },
  {
   "cell_type": "code",
   "execution_count": 73,
   "id": "88ad2b67-355d-44ea-af70-c541e74fad7a",
   "metadata": {},
   "outputs": [
    {
     "data": {
      "text/plain": [
       "LinearRegression()"
      ]
     },
     "execution_count": 73,
     "metadata": {},
     "output_type": "execute_result"
    }
   ],
   "source": [
    "lr.fit(Z_train, y_train)"
   ]
  },
  {
   "cell_type": "code",
   "execution_count": 74,
   "id": "ed54c7c4-09f2-4415-ab65-c8af9760256e",
   "metadata": {},
   "outputs": [
    {
     "name": "stdout",
     "output_type": "stream",
     "text": [
      "The R^2 error for the training set is: 0.677\n",
      "The R^2 error for the testing set is: 0.675\n"
     ]
    }
   ],
   "source": [
    "print(\"The R^2 error for the training set is: {}\".format(round(lr.score(Z_train, y_train),3)))\n",
    "print(\"The R^2 error for the testing set is: {}\".format(round(lr.score(Z_test, y_test),3)))"
   ]
  },
  {
   "cell_type": "markdown",
   "id": "67396ece-4e39-4cae-81ff-978d442db0c1",
   "metadata": {},
   "source": [
    "**As we can see the accuracy of the model has increased**"
   ]
  },
  {
   "cell_type": "code",
   "execution_count": 75,
   "id": "52d64a87-78cf-47d1-808c-4cc29e3b457b",
   "metadata": {},
   "outputs": [],
   "source": [
    "yhat=lr.predict(Z_test)"
   ]
  },
  {
   "cell_type": "code",
   "execution_count": 76,
   "id": "e831baab-dbef-4196-ad7e-fe080227eb2b",
   "metadata": {},
   "outputs": [
    {
     "name": "stdout",
     "output_type": "stream",
     "text": [
      "The MAE is:135.09\n",
      "The MSE is:50675\n"
     ]
    }
   ],
   "source": [
    "from sklearn.metrics import mean_absolute_error, mean_squared_error\n",
    "print(\"The MAE is:{}\".format(round(mean_absolute_error(y_test, yhat),2)))\n",
    "print(\"The MSE is:{}\".format(round((mean_squared_error(y_test, yhat)))))"
   ]
  },
  {
   "cell_type": "code",
   "execution_count": 77,
   "id": "a9585d6a-cf58-4d7e-994f-2937c99358fa",
   "metadata": {},
   "outputs": [],
   "source": [
    "def fitplot(y,yhat,kind):\n",
    "    \n",
    "    plt.figure(figsize=(14,10))\n",
    "\n",
    "    ax1=sns.distplot(y, hist=False, color='r', label=\"Actual Value\")\n",
    "    sns.distplot(yhat, hist=False, color='b', label= 'Predicted Values', ax=ax1)\n",
    "\n",
    "    plt.title('Actual vs Predicted Values ({})'.format(kind))\n",
    "    plt.xlabel('Price (€)')\n",
    "    plt.legend(loc=\"lower right\")\n",
    "    plt.show()"
   ]
  },
  {
   "cell_type": "code",
   "execution_count": 78,
   "id": "dfe9d357-0498-42e3-bdbb-0266724c29ba",
   "metadata": {},
   "outputs": [
    {
     "name": "stderr",
     "output_type": "stream",
     "text": [
      "C:\\Users\\user\\Anaconda\\lib\\site-packages\\seaborn\\distributions.py:2619: FutureWarning: `distplot` is a deprecated function and will be removed in a future version. Please adapt your code to use either `displot` (a figure-level function with similar flexibility) or `kdeplot` (an axes-level function for kernel density plots).\n",
      "  warnings.warn(msg, FutureWarning)\n",
      "C:\\Users\\user\\Anaconda\\lib\\site-packages\\seaborn\\distributions.py:2619: FutureWarning: `distplot` is a deprecated function and will be removed in a future version. Please adapt your code to use either `displot` (a figure-level function with similar flexibility) or `kdeplot` (an axes-level function for kernel density plots).\n",
      "  warnings.warn(msg, FutureWarning)\n"
     ]
    },
    {
     "data": {
      "image/png": "[encoded data removed]",
      "text/plain": [
       "<Figure size 1008x720 with 1 Axes>"
      ]
     },
     "metadata": {
      "needs_background": "light"
     },
     "output_type": "display_data"
    }
   ],
   "source": [
    "y_train_hat=lr.predict(Z_train)\n",
    "fitplot(y_train,y_train_hat,\"Training Set\")"
   ]
  },
  {
   "cell_type": "code",
   "execution_count": 79,
   "id": "6d3ca2c3-6b67-4480-ae16-fc106e81f035",
   "metadata": {},
   "outputs": [
    {
     "name": "stderr",
     "output_type": "stream",
     "text": [
      "C:\\Users\\user\\Anaconda\\lib\\site-packages\\seaborn\\distributions.py:2619: FutureWarning: `distplot` is a deprecated function and will be removed in a future version. Please adapt your code to use either `displot` (a figure-level function with similar flexibility) or `kdeplot` (an axes-level function for kernel density plots).\n",
      "  warnings.warn(msg, FutureWarning)\n",
      "C:\\Users\\user\\Anaconda\\lib\\site-packages\\seaborn\\distributions.py:2619: FutureWarning: `distplot` is a deprecated function and will be removed in a future version. Please adapt your code to use either `displot` (a figure-level function with similar flexibility) or `kdeplot` (an axes-level function for kernel density plots).\n",
      "  warnings.warn(msg, FutureWarning)\n"
     ]
    },
    {
     "data": {
      "image/png": "[encoded data removed]",
      "text/plain": [
       "<Figure size 1008x720 with 1 Axes>"
      ]
     },
     "metadata": {
      "needs_background": "light"
     },
     "output_type": "display_data"
    }
   ],
   "source": [
    "fitplot(y_test,yhat,\"Testing Set\")"
   ]
  },
  {
   "cell_type": "code",
   "execution_count": 80,
   "id": "2ac2f1e2-792c-4c48-9eb9-ce3b7caf21cc",
   "metadata": {},
   "outputs": [
    {
     "data": {
      "text/plain": [
       "array([0.7765975 , 0.70541605, 0.53627144, 0.64470404, 0.64881605])"
      ]
     },
     "execution_count": 80,
     "metadata": {},
     "output_type": "execute_result"
    }
   ],
   "source": [
    "from sklearn.model_selection import ShuffleSplit\n",
    "from sklearn.model_selection import cross_val_score\n",
    "\n",
    "cv=ShuffleSplit(n_splits=5, test_size=0.13, random_state=0)\n",
    "\n",
    "S=cross_val_score(LinearRegression(), Z, y, cv=cv)\n",
    "S"
   ]
  },
  {
   "cell_type": "code",
   "execution_count": 81,
   "id": "d494a3d6-fea0-4b33-9498-d33f852062eb",
   "metadata": {},
   "outputs": [
    {
     "name": "stdout",
     "output_type": "stream",
     "text": [
      "0.66236 , 0.07912\n"
     ]
    }
   ],
   "source": [
    "print(round(S.mean(),5),\",\", round(S.std(),5))"
   ]
  },
  {
   "cell_type": "code",
   "execution_count": 82,
   "id": "3afb16d0-a5d1-480a-bbfb-dce3627a79a4",
   "metadata": {
    "tags": []
   },
   "outputs": [
    {
     "name": "stderr",
     "output_type": "stream",
     "text": [
      "C:\\Users\\user\\Anaconda\\lib\\site-packages\\sklearn\\linear_model\\_base.py:141: FutureWarning: 'normalize' was deprecated in version 1.0 and will be removed in 1.2.\n",
      "If you wish to scale the data, use Pipeline with a StandardScaler in a preprocessing stage. To reproduce the previous behavior:\n",
      "\n",
      "from sklearn.pipeline import make_pipeline\n",
      "\n",
      "model = make_pipeline(StandardScaler(with_mean=False), LinearRegression())\n",
      "\n",
      "If you wish to pass a sample_weight parameter, you need to pass it as a fit parameter to each step of the pipeline as follows:\n",
      "\n",
      "kwargs = {s[0] + '__sample_weight': sample_weight for s in model.steps}\n",
      "model.fit(X, y, **kwargs)\n",
      "\n",
      "\n",
      "  warnings.warn(\n",
      "C:\\Users\\user\\Anaconda\\lib\\site-packages\\sklearn\\linear_model\\_base.py:141: FutureWarning: 'normalize' was deprecated in version 1.0 and will be removed in 1.2.\n",
      "If you wish to scale the data, use Pipeline with a StandardScaler in a preprocessing stage. To reproduce the previous behavior:\n",
      "\n",
      "from sklearn.pipeline import make_pipeline\n",
      "\n",
      "model = make_pipeline(StandardScaler(with_mean=False), LinearRegression())\n",
      "\n",
      "If you wish to pass a sample_weight parameter, you need to pass it as a fit parameter to each step of the pipeline as follows:\n",
      "\n",
      "kwargs = {s[0] + '__sample_weight': sample_weight for s in model.steps}\n",
      "model.fit(X, y, **kwargs)\n",
      "\n",
      "\n",
      "  warnings.warn(\n",
      "C:\\Users\\user\\Anaconda\\lib\\site-packages\\sklearn\\linear_model\\_base.py:141: FutureWarning: 'normalize' was deprecated in version 1.0 and will be removed in 1.2.\n",
      "If you wish to scale the data, use Pipeline with a StandardScaler in a preprocessing stage. To reproduce the previous behavior:\n",
      "\n",
      "from sklearn.pipeline import make_pipeline\n",
      "\n",
      "model = make_pipeline(StandardScaler(with_mean=False), LinearRegression())\n",
      "\n",
      "If you wish to pass a sample_weight parameter, you need to pass it as a fit parameter to each step of the pipeline as follows:\n",
      "\n",
      "kwargs = {s[0] + '__sample_weight': sample_weight for s in model.steps}\n",
      "model.fit(X, y, **kwargs)\n",
      "\n",
      "\n",
      "  warnings.warn(\n",
      "C:\\Users\\user\\Anaconda\\lib\\site-packages\\sklearn\\linear_model\\_base.py:141: FutureWarning: 'normalize' was deprecated in version 1.0 and will be removed in 1.2.\n",
      "If you wish to scale the data, use Pipeline with a StandardScaler in a preprocessing stage. To reproduce the previous behavior:\n",
      "\n",
      "from sklearn.pipeline import make_pipeline\n",
      "\n",
      "model = make_pipeline(StandardScaler(with_mean=False), LinearRegression())\n",
      "\n",
      "If you wish to pass a sample_weight parameter, you need to pass it as a fit parameter to each step of the pipeline as follows:\n",
      "\n",
      "kwargs = {s[0] + '__sample_weight': sample_weight for s in model.steps}\n",
      "model.fit(X, y, **kwargs)\n",
      "\n",
      "\n",
      "  warnings.warn(\n",
      "C:\\Users\\user\\Anaconda\\lib\\site-packages\\sklearn\\linear_model\\_base.py:141: FutureWarning: 'normalize' was deprecated in version 1.0 and will be removed in 1.2.\n",
      "If you wish to scale the data, use Pipeline with a StandardScaler in a preprocessing stage. To reproduce the previous behavior:\n",
      "\n",
      "from sklearn.pipeline import make_pipeline\n",
      "\n",
      "model = make_pipeline(StandardScaler(with_mean=False), LinearRegression())\n",
      "\n",
      "If you wish to pass a sample_weight parameter, you need to pass it as a fit parameter to each step of the pipeline as follows:\n",
      "\n",
      "kwargs = {s[0] + '__sample_weight': sample_weight for s in model.steps}\n",
      "model.fit(X, y, **kwargs)\n",
      "\n",
      "\n",
      "  warnings.warn(\n",
      "C:\\Users\\user\\Anaconda\\lib\\site-packages\\sklearn\\linear_model\\_base.py:141: FutureWarning: 'normalize' was deprecated in version 1.0 and will be removed in 1.2.\n",
      "If you wish to scale the data, use Pipeline with a StandardScaler in a preprocessing stage. To reproduce the previous behavior:\n",
      "\n",
      "from sklearn.pipeline import make_pipeline\n",
      "\n",
      "model = make_pipeline(StandardScaler(with_mean=False), LinearRegression())\n",
      "\n",
      "If you wish to pass a sample_weight parameter, you need to pass it as a fit parameter to each step of the pipeline as follows:\n",
      "\n",
      "kwargs = {s[0] + '__sample_weight': sample_weight for s in model.steps}\n",
      "model.fit(X, y, **kwargs)\n",
      "\n",
      "\n",
      "  warnings.warn(\n",
      "C:\\Users\\user\\Anaconda\\lib\\site-packages\\sklearn\\linear_model\\_base.py:141: FutureWarning: 'normalize' was deprecated in version 1.0 and will be removed in 1.2.\n",
      "If you wish to scale the data, use Pipeline with a StandardScaler in a preprocessing stage. To reproduce the previous behavior:\n",
      "\n",
      "from sklearn.pipeline import make_pipeline\n",
      "\n",
      "model = make_pipeline(StandardScaler(with_mean=False), LinearRegression())\n",
      "\n",
      "If you wish to pass a sample_weight parameter, you need to pass it as a fit parameter to each step of the pipeline as follows:\n",
      "\n",
      "kwargs = {s[0] + '__sample_weight': sample_weight for s in model.steps}\n",
      "model.fit(X, y, **kwargs)\n",
      "\n",
      "\n",
      "  warnings.warn(\n",
      "C:\\Users\\user\\Anaconda\\lib\\site-packages\\sklearn\\linear_model\\_base.py:141: FutureWarning: 'normalize' was deprecated in version 1.0 and will be removed in 1.2.\n",
      "If you wish to scale the data, use Pipeline with a StandardScaler in a preprocessing stage. To reproduce the previous behavior:\n",
      "\n",
      "from sklearn.pipeline import make_pipeline\n",
      "\n",
      "model = make_pipeline(StandardScaler(with_mean=False), LinearRegression())\n",
      "\n",
      "If you wish to pass a sample_weight parameter, you need to pass it as a fit parameter to each step of the pipeline as follows:\n",
      "\n",
      "kwargs = {s[0] + '__sample_weight': sample_weight for s in model.steps}\n",
      "model.fit(X, y, **kwargs)\n",
      "\n",
      "\n",
      "  warnings.warn(\n",
      "C:\\Users\\user\\Anaconda\\lib\\site-packages\\sklearn\\linear_model\\_base.py:141: FutureWarning: 'normalize' was deprecated in version 1.0 and will be removed in 1.2.\n",
      "If you wish to scale the data, use Pipeline with a StandardScaler in a preprocessing stage. To reproduce the previous behavior:\n",
      "\n",
      "from sklearn.pipeline import make_pipeline\n",
      "\n",
      "model = make_pipeline(StandardScaler(with_mean=False), LinearRegression())\n",
      "\n",
      "If you wish to pass a sample_weight parameter, you need to pass it as a fit parameter to each step of the pipeline as follows:\n",
      "\n",
      "kwargs = {s[0] + '__sample_weight': sample_weight for s in model.steps}\n",
      "model.fit(X, y, **kwargs)\n",
      "\n",
      "\n",
      "  warnings.warn(\n",
      "C:\\Users\\user\\Anaconda\\lib\\site-packages\\sklearn\\linear_model\\_base.py:141: FutureWarning: 'normalize' was deprecated in version 1.0 and will be removed in 1.2.\n",
      "If you wish to scale the data, use Pipeline with a StandardScaler in a preprocessing stage. To reproduce the previous behavior:\n",
      "\n",
      "from sklearn.pipeline import make_pipeline\n",
      "\n",
      "model = make_pipeline(StandardScaler(with_mean=False), LinearRegression())\n",
      "\n",
      "If you wish to pass a sample_weight parameter, you need to pass it as a fit parameter to each step of the pipeline as follows:\n",
      "\n",
      "kwargs = {s[0] + '__sample_weight': sample_weight for s in model.steps}\n",
      "model.fit(X, y, **kwargs)\n",
      "\n",
      "\n",
      "  warnings.warn(\n",
      "C:\\Users\\user\\Anaconda\\lib\\site-packages\\sklearn\\linear_model\\_base.py:148: FutureWarning: 'normalize' was deprecated in version 1.0 and will be removed in 1.2. Please leave the normalize parameter to its default value to silence this warning. The default behavior of this estimator is to not do any normalization. If normalization is needed please use sklearn.preprocessing.StandardScaler instead.\n",
      "  warnings.warn(\n",
      "C:\\Users\\user\\Anaconda\\lib\\site-packages\\sklearn\\linear_model\\_base.py:148: FutureWarning: 'normalize' was deprecated in version 1.0 and will be removed in 1.2. Please leave the normalize parameter to its default value to silence this warning. The default behavior of this estimator is to not do any normalization. If normalization is needed please use sklearn.preprocessing.StandardScaler instead.\n",
      "  warnings.warn(\n",
      "C:\\Users\\user\\Anaconda\\lib\\site-packages\\sklearn\\linear_model\\_base.py:148: FutureWarning: 'normalize' was deprecated in version 1.0 and will be removed in 1.2. Please leave the normalize parameter to its default value to silence this warning. The default behavior of this estimator is to not do any normalization. If normalization is needed please use sklearn.preprocessing.StandardScaler instead.\n",
      "  warnings.warn(\n",
      "C:\\Users\\user\\Anaconda\\lib\\site-packages\\sklearn\\linear_model\\_base.py:148: FutureWarning: 'normalize' was deprecated in version 1.0 and will be removed in 1.2. Please leave the normalize parameter to its default value to silence this warning. The default behavior of this estimator is to not do any normalization. If normalization is needed please use sklearn.preprocessing.StandardScaler instead.\n",
      "  warnings.warn(\n",
      "C:\\Users\\user\\Anaconda\\lib\\site-packages\\sklearn\\linear_model\\_base.py:148: FutureWarning: 'normalize' was deprecated in version 1.0 and will be removed in 1.2. Please leave the normalize parameter to its default value to silence this warning. The default behavior of this estimator is to not do any normalization. If normalization is needed please use sklearn.preprocessing.StandardScaler instead.\n",
      "  warnings.warn(\n",
      "C:\\Users\\user\\Anaconda\\lib\\site-packages\\sklearn\\linear_model\\_base.py:148: FutureWarning: 'normalize' was deprecated in version 1.0 and will be removed in 1.2. Please leave the normalize parameter to its default value to silence this warning. The default behavior of this estimator is to not do any normalization. If normalization is needed please use sklearn.preprocessing.StandardScaler instead.\n",
      "  warnings.warn(\n",
      "C:\\Users\\user\\Anaconda\\lib\\site-packages\\sklearn\\linear_model\\_base.py:148: FutureWarning: 'normalize' was deprecated in version 1.0 and will be removed in 1.2. Please leave the normalize parameter to its default value to silence this warning. The default behavior of this estimator is to not do any normalization. If normalization is needed please use sklearn.preprocessing.StandardScaler instead.\n",
      "  warnings.warn(\n",
      "C:\\Users\\user\\Anaconda\\lib\\site-packages\\sklearn\\linear_model\\_base.py:148: FutureWarning: 'normalize' was deprecated in version 1.0 and will be removed in 1.2. Please leave the normalize parameter to its default value to silence this warning. The default behavior of this estimator is to not do any normalization. If normalization is needed please use sklearn.preprocessing.StandardScaler instead.\n",
      "  warnings.warn(\n",
      "C:\\Users\\user\\Anaconda\\lib\\site-packages\\sklearn\\linear_model\\_base.py:148: FutureWarning: 'normalize' was deprecated in version 1.0 and will be removed in 1.2. Please leave the normalize parameter to its default value to silence this warning. The default behavior of this estimator is to not do any normalization. If normalization is needed please use sklearn.preprocessing.StandardScaler instead.\n",
      "  warnings.warn(\n",
      "C:\\Users\\user\\Anaconda\\lib\\site-packages\\sklearn\\linear_model\\_base.py:148: FutureWarning: 'normalize' was deprecated in version 1.0 and will be removed in 1.2. Please leave the normalize parameter to its default value to silence this warning. The default behavior of this estimator is to not do any normalization. If normalization is needed please use sklearn.preprocessing.StandardScaler instead.\n",
      "  warnings.warn(\n",
      "C:\\Users\\user\\Anaconda\\lib\\site-packages\\sklearn\\linear_model\\_base.py:148: FutureWarning: 'normalize' was deprecated in version 1.0 and will be removed in 1.2. Please leave the normalize parameter to its default value to silence this warning. The default behavior of this estimator is to not do any normalization. If normalization is needed please use sklearn.preprocessing.StandardScaler instead.\n",
      "  warnings.warn(\n",
      "C:\\Users\\user\\Anaconda\\lib\\site-packages\\sklearn\\tree\\_classes.py:359: FutureWarning: Criterion 'mse' was deprecated in v1.0 and will be removed in version 1.2. Use `criterion='squared_error'` which is equivalent.\n",
      "  warnings.warn(\n",
      "C:\\Users\\user\\Anaconda\\lib\\site-packages\\sklearn\\tree\\_classes.py:359: FutureWarning: Criterion 'mse' was deprecated in v1.0 and will be removed in version 1.2. Use `criterion='squared_error'` which is equivalent.\n",
      "  warnings.warn(\n",
      "C:\\Users\\user\\Anaconda\\lib\\site-packages\\sklearn\\tree\\_classes.py:359: FutureWarning: Criterion 'mse' was deprecated in v1.0 and will be removed in version 1.2. Use `criterion='squared_error'` which is equivalent.\n",
      "  warnings.warn(\n",
      "C:\\Users\\user\\Anaconda\\lib\\site-packages\\sklearn\\tree\\_classes.py:359: FutureWarning: Criterion 'mse' was deprecated in v1.0 and will be removed in version 1.2. Use `criterion='squared_error'` which is equivalent.\n",
      "  warnings.warn(\n",
      "C:\\Users\\user\\Anaconda\\lib\\site-packages\\sklearn\\tree\\_classes.py:359: FutureWarning: Criterion 'mse' was deprecated in v1.0 and will be removed in version 1.2. Use `criterion='squared_error'` which is equivalent.\n",
      "  warnings.warn(\n",
      "C:\\Users\\user\\Anaconda\\lib\\site-packages\\sklearn\\tree\\_classes.py:359: FutureWarning: Criterion 'mse' was deprecated in v1.0 and will be removed in version 1.2. Use `criterion='squared_error'` which is equivalent.\n",
      "  warnings.warn(\n",
      "C:\\Users\\user\\Anaconda\\lib\\site-packages\\sklearn\\tree\\_classes.py:359: FutureWarning: Criterion 'mse' was deprecated in v1.0 and will be removed in version 1.2. Use `criterion='squared_error'` which is equivalent.\n",
      "  warnings.warn(\n",
      "C:\\Users\\user\\Anaconda\\lib\\site-packages\\sklearn\\tree\\_classes.py:359: FutureWarning: Criterion 'mse' was deprecated in v1.0 and will be removed in version 1.2. Use `criterion='squared_error'` which is equivalent.\n",
      "  warnings.warn(\n",
      "C:\\Users\\user\\Anaconda\\lib\\site-packages\\sklearn\\tree\\_classes.py:359: FutureWarning: Criterion 'mse' was deprecated in v1.0 and will be removed in version 1.2. Use `criterion='squared_error'` which is equivalent.\n",
      "  warnings.warn(\n",
      "C:\\Users\\user\\Anaconda\\lib\\site-packages\\sklearn\\tree\\_classes.py:359: FutureWarning: Criterion 'mse' was deprecated in v1.0 and will be removed in version 1.2. Use `criterion='squared_error'` which is equivalent.\n",
      "  warnings.warn(\n",
      "C:\\Users\\user\\Anaconda\\lib\\site-packages\\sklearn\\tree\\_classes.py:359: FutureWarning: Criterion 'mse' was deprecated in v1.0 and will be removed in version 1.2. Use `criterion='squared_error'` which is equivalent.\n",
      "  warnings.warn(\n",
      "C:\\Users\\user\\Anaconda\\lib\\site-packages\\sklearn\\tree\\_classes.py:359: FutureWarning: Criterion 'mse' was deprecated in v1.0 and will be removed in version 1.2. Use `criterion='squared_error'` which is equivalent.\n",
      "  warnings.warn(\n",
      "C:\\Users\\user\\Anaconda\\lib\\site-packages\\sklearn\\tree\\_classes.py:359: FutureWarning: Criterion 'mse' was deprecated in v1.0 and will be removed in version 1.2. Use `criterion='squared_error'` which is equivalent.\n",
      "  warnings.warn(\n",
      "C:\\Users\\user\\Anaconda\\lib\\site-packages\\sklearn\\tree\\_classes.py:359: FutureWarning: Criterion 'mse' was deprecated in v1.0 and will be removed in version 1.2. Use `criterion='squared_error'` which is equivalent.\n",
      "  warnings.warn(\n",
      "C:\\Users\\user\\Anaconda\\lib\\site-packages\\sklearn\\tree\\_classes.py:359: FutureWarning: Criterion 'mse' was deprecated in v1.0 and will be removed in version 1.2. Use `criterion='squared_error'` which is equivalent.\n",
      "  warnings.warn(\n",
      "C:\\Users\\user\\Anaconda\\lib\\site-packages\\sklearn\\tree\\_classes.py:359: FutureWarning: Criterion 'mse' was deprecated in v1.0 and will be removed in version 1.2. Use `criterion='squared_error'` which is equivalent.\n",
      "  warnings.warn(\n",
      "C:\\Users\\user\\Anaconda\\lib\\site-packages\\sklearn\\tree\\_classes.py:359: FutureWarning: Criterion 'mse' was deprecated in v1.0 and will be removed in version 1.2. Use `criterion='squared_error'` which is equivalent.\n",
      "  warnings.warn(\n",
      "C:\\Users\\user\\Anaconda\\lib\\site-packages\\sklearn\\tree\\_classes.py:359: FutureWarning: Criterion 'mse' was deprecated in v1.0 and will be removed in version 1.2. Use `criterion='squared_error'` which is equivalent.\n",
      "  warnings.warn(\n",
      "C:\\Users\\user\\Anaconda\\lib\\site-packages\\sklearn\\tree\\_classes.py:359: FutureWarning: Criterion 'mse' was deprecated in v1.0 and will be removed in version 1.2. Use `criterion='squared_error'` which is equivalent.\n",
      "  warnings.warn(\n",
      "C:\\Users\\user\\Anaconda\\lib\\site-packages\\sklearn\\tree\\_classes.py:359: FutureWarning: Criterion 'mse' was deprecated in v1.0 and will be removed in version 1.2. Use `criterion='squared_error'` which is equivalent.\n",
      "  warnings.warn(\n"
     ]
    },
    {
     "data": {
      "text/html": [
       "<div>\n",
       "<style scoped>\n",
       "    .dataframe tbody tr th:only-of-type {\n",
       "        vertical-align: middle;\n",
       "    }\n",
       "\n",
       "    .dataframe tbody tr th {\n",
       "        vertical-align: top;\n",
       "    }\n",
       "\n",
       "    .dataframe thead th {\n",
       "        text-align: right;\n",
       "    }\n",
       "</style>\n",
       "<table border=\"1\" class=\"dataframe\">\n",
       "  <thead>\n",
       "    <tr style=\"text-align: right;\">\n",
       "      <th></th>\n",
       "      <th>model</th>\n",
       "      <th>best_score</th>\n",
       "      <th>best_params</th>\n",
       "    </tr>\n",
       "  </thead>\n",
       "  <tbody>\n",
       "    <tr>\n",
       "      <th>0</th>\n",
       "      <td>linear_regression</td>\n",
       "      <td>0.610729</td>\n",
       "      <td>{'normalize': False}</td>\n",
       "    </tr>\n",
       "    <tr>\n",
       "      <th>1</th>\n",
       "      <td>lasso</td>\n",
       "      <td>0.605338</td>\n",
       "      <td>{'alpha': 1, 'selection': 'random'}</td>\n",
       "    </tr>\n",
       "    <tr>\n",
       "      <th>2</th>\n",
       "      <td>decision_tree</td>\n",
       "      <td>0.382832</td>\n",
       "      <td>{'criterion': 'friedman_mse', 'splitter': 'best'}</td>\n",
       "    </tr>\n",
       "    <tr>\n",
       "      <th>3</th>\n",
       "      <td>ridge_regression</td>\n",
       "      <td>0.614758</td>\n",
       "      <td>{'alpha': 10, 'solver': 'svd'}</td>\n",
       "    </tr>\n",
       "  </tbody>\n",
       "</table>\n",
       "</div>"
      ],
      "text/plain": [
       "               model  best_score  \\\n",
       "0  linear_regression    0.610729   \n",
       "1              lasso    0.605338   \n",
       "2      decision_tree    0.382832   \n",
       "3   ridge_regression    0.614758   \n",
       "\n",
       "                                         best_params  \n",
       "0                               {'normalize': False}  \n",
       "1                {'alpha': 1, 'selection': 'random'}  \n",
       "2  {'criterion': 'friedman_mse', 'splitter': 'best'}  \n",
       "3                     {'alpha': 10, 'solver': 'svd'}  "
      ]
     },
     "execution_count": 82,
     "metadata": {},
     "output_type": "execute_result"
    }
   ],
   "source": [
    "from sklearn.model_selection import GridSearchCV\n",
    "\n",
    "from sklearn.linear_model import Lasso\n",
    "\n",
    "from sklearn.tree import DecisionTreeRegressor\n",
    "\n",
    "from sklearn.linear_model import Ridge\n",
    "\n",
    "def find_best_model(Z_train,y_train):\n",
    "    algos={\n",
    "        'linear_regression':{\n",
    "            'model':LinearRegression(),\n",
    "            'params':{\n",
    "                'normalize':[True, False]\n",
    "            }\n",
    "        },\n",
    "        'lasso':{\n",
    "            'model':Lasso(),\n",
    "            'params':{\n",
    "            'alpha': [1,2],\n",
    "            'selection':['random','cyclic']\n",
    "        }\n",
    "    },\n",
    "    'decision_tree':{\n",
    "            'model':DecisionTreeRegressor(),\n",
    "            'params':{\n",
    "                'criterion': ['mse', 'friedman_mse'],\n",
    "                'splitter':['best','random']\n",
    "            }\n",
    "        },\n",
    "        'ridge_regression':{\n",
    "            'model':Ridge(),\n",
    "            'params':{\n",
    "                'alpha':[1,5,7,10,100],\n",
    "                'solver':['auto', 'svd'],\n",
    "            }\n",
    "        }\n",
    "    }\n",
    "    score=[]\n",
    "    cv=ShuffleSplit(n_splits=10, test_size=0.13, random_state=0)\n",
    "    for algo, config in algos.items():\n",
    "        gs= GridSearchCV(config['model'], config['params'], cv=cv, return_train_score=False)\n",
    "        gs.fit(Z,y)\n",
    "        score.append({\n",
    "            'model':algo,\n",
    "            'best_score':gs.best_score_,\n",
    "            'best_params':gs.best_params_\n",
    "        })    \n",
    "    return pd.DataFrame(score, columns=['model', 'best_score', 'best_params'])\n",
    "                \n",
    "\n",
    "\n",
    "                         \n",
    "                                \n",
    "                \n",
    "find_best_model(Z_test,y_test)    \n",
    "        "
   ]
  },
  {
   "cell_type": "markdown",
   "id": "2ffc4f8d-0ba1-40ca-b2fb-6e2837dc228b",
   "metadata": {},
   "source": [
    "**We can conclude that the best models for the prediction of the rent price is the Multiple Linear and Ridge Regression**"
   ]
  }
 ],
 "metadata": {
  "kernelspec": {
   "display_name": "Python 3 (ipykernel)",
   "language": "python",
   "name": "python3"
  },
  "language_info": {
   "codemirror_mode": {
    "name": "ipython",
    "version": 3
   },
   "file_extension": ".py",
   "mimetype": "text/x-python",
   "name": "python",
   "nbconvert_exporter": "python",
   "pygments_lexer": "ipython3",
   "version": "3.9.12"
  }
 },
 "nbformat": 4,
 "nbformat_minor": 5
}
